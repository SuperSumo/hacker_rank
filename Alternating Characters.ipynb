{
 "cells": [
  {
   "cell_type": "markdown",
   "metadata": {},
   "source": [
    "# https://www.hackerrank.com/challenges/alternating-characters"
   ]
  },
  {
   "cell_type": "code",
   "execution_count": 2,
   "metadata": {
    "collapsed": true
   },
   "outputs": [],
   "source": [
    "def mocked_raw_input(fpOrString):\n",
    "    def set_raw_input_string(fpOrString):\n",
    "        if type(fpOrString) is str:\n",
    "            for line in fpOrString.split('\\n'):\n",
    "                yield line\n",
    "        else:\n",
    "            for line in open(fpOrString):\n",
    "                yield line\n",
    "    yield_func = set_raw_input_string(fpOrString)\n",
    "\n",
    "    def next_func():\n",
    "        return next(yield_func)\n",
    "    return next_func"
   ]
  },
  {
   "cell_type": "code",
   "execution_count": 10,
   "metadata": {
    "collapsed": true
   },
   "outputs": [],
   "source": [
    "def alternating_characters(chars):\n",
    "    numDeletions = 0\n",
    "    curChar = chars[0]\n",
    "    for c in chars[1:]:\n",
    "        if c == curChar:\n",
    "            numDeletions += 1\n",
    "        else:\n",
    "            curChar = c\n",
    "    return numDeletions"
   ]
  },
  {
   "cell_type": "code",
   "execution_count": 11,
   "metadata": {
    "collapsed": false
   },
   "outputs": [
    {
     "name": "stdout",
     "output_type": "stream",
     "text": [
      "3\n",
      "4\n",
      "0\n",
      "0\n",
      "4\n"
     ]
    }
   ],
   "source": [
    "# Mock out raw_input\n",
    "s = '''5\n",
    "AAAA\n",
    "BBBBB\n",
    "ABABABAB\n",
    "BABABA\n",
    "AAABBB'''\n",
    "raw_input = mocked_raw_input(s)\n",
    "\n",
    "# Read the inputs\n",
    "numSets = int(raw_input())\n",
    "for _ in xrange(numSets):\n",
    "    print alternating_characters(raw_input())"
   ]
  }
 ],
 "metadata": {
  "anaconda-cloud": {},
  "kernelspec": {
   "display_name": "Python [conda env:main]",
   "language": "python",
   "name": "conda-env-main-py"
  },
  "language_info": {
   "codemirror_mode": {
    "name": "ipython",
    "version": 2
   },
   "file_extension": ".py",
   "mimetype": "text/x-python",
   "name": "python",
   "nbconvert_exporter": "python",
   "pygments_lexer": "ipython2",
   "version": "2.7.12"
  }
 },
 "nbformat": 4,
 "nbformat_minor": 1
}
