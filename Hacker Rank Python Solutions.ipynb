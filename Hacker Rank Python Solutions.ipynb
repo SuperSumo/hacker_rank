{
 "cells": [
  {
   "cell_type": "markdown",
   "metadata": {},
   "source": [
    "# [Introduction Challenges](https://www.hackerrank.com/domains/python/py-introduction)"
   ]
  },
  {
   "cell_type": "markdown",
   "metadata": {},
   "source": [
    "### Write a function"
   ]
  },
  {
   "cell_type": "code",
   "execution_count": null,
   "metadata": {
    "collapsed": false
   },
   "outputs": [],
   "source": [
    "years = [2000, 2400, 1800, 1900, 2100, 2200, 2300, 2500, 1992]\n",
    "truths = [True, True, False, False, False, False, False, False, True]\n",
    "\n",
    "def is_leap(year):\n",
    "    leap = False\n",
    "    if not year % 4:\n",
    "        leap = True\n",
    "    if not year % 100:\n",
    "        leap = False\n",
    "        if not year % 400:\n",
    "            leap = True\n",
    "    return leap\n",
    "\n",
    "for i, year in enumerate(years):\n",
    "    print is_leap(year), truths[i]"
   ]
  },
  {
   "cell_type": "markdown",
   "metadata": {},
   "source": [
    "### Print Function"
   ]
  },
  {
   "cell_type": "code",
   "execution_count": null,
   "metadata": {
    "collapsed": false,
    "scrolled": true
   },
   "outputs": [],
   "source": [
    "# Enter your code here. Read input from STDIN. Print output to STDOUT\n",
    "N = int(raw_input())\n",
    "\n",
    "# from __future__ import print_function\n",
    "# import sys\n",
    "# print(*xrange(1,N+1), sep='', end='\\n', file=sys.stdout)\n",
    "\n",
    "# Here's a method using string manipulation functions, which they didn't want originally, but I've never used the print_function before.\n",
    "print(''.join([str(x) for x in xrange(1,N+1)]))"
   ]
  },
  {
   "cell_type": "markdown",
   "metadata": {},
   "source": [
    "### Find Angle MBC"
   ]
  },
  {
   "cell_type": "code",
   "execution_count": null,
   "metadata": {
    "collapsed": false
   },
   "outputs": [],
   "source": [
    "AB = float(raw_input())\n",
    "BC = float(raw_input())\n",
    "\n",
    "mY = AB / 2.0\n",
    "mX = BC / 2.0\n",
    "\n",
    "import math\n",
    "print '%i°' % int(round(math.degrees(math.atan2(mY, mX))))"
   ]
  },
  {
   "cell_type": "markdown",
   "metadata": {},
   "source": [
    "# [Basic Data Types Challenges](https://www.hackerrank.com/domains/python/py-basic-data-types)"
   ]
  },
  {
   "cell_type": "markdown",
   "metadata": {},
   "source": [
    "### Lists"
   ]
  },
  {
   "cell_type": "code",
   "execution_count": null,
   "metadata": {
    "collapsed": false
   },
   "outputs": [],
   "source": [
    "n = int(raw_input().strip())\n",
    "l = []\n",
    "for _ in xrange(n):\n",
    "    commandList = raw_input().strip().split()\n",
    "    command = commandList[0]\n",
    "    commandArgs = [int(x) for x in commandList[1:]]\n",
    "    if command == 'print':\n",
    "        print l\n",
    "    else:\n",
    "        l.__getattribute__(command)(*commandArgs)"
   ]
  },
  {
   "cell_type": "markdown",
   "metadata": {},
   "source": [
    "### Tuples"
   ]
  },
  {
   "cell_type": "code",
   "execution_count": null,
   "metadata": {
    "collapsed": false
   },
   "outputs": [],
   "source": [
    "n = int(raw_input().strip())\n",
    "print hash(tuple(map(int, raw_input().strip().split())))"
   ]
  },
  {
   "cell_type": "markdown",
   "metadata": {},
   "source": [
    "### List Comprehensions"
   ]
  },
  {
   "cell_type": "code",
   "execution_count": null,
   "metadata": {
    "collapsed": false
   },
   "outputs": [],
   "source": [
    "x = int(raw_input().strip())\n",
    "y = int(raw_input().strip())\n",
    "z = int(raw_input().strip())\n",
    "n = int(raw_input().strip())\n",
    "\n",
    "print [[a, b, c] for a in range(x+1) for b in range(y+1) for c in range(z+1) if sum([a, b, c]) != n]"
   ]
  },
  {
   "cell_type": "markdown",
   "metadata": {},
   "source": [
    "### Find the Second Largest Number"
   ]
  },
  {
   "cell_type": "code",
   "execution_count": null,
   "metadata": {
    "collapsed": true
   },
   "outputs": [],
   "source": [
    "n = int(raw_input().strip())\n",
    "nums = map(int, raw_input().strip().split())\n",
    "nums = list(set(nums))\n",
    "nums.sort()\n",
    "nums.reverse()\n",
    "print nums[1]"
   ]
  },
  {
   "cell_type": "markdown",
   "metadata": {},
   "source": [
    "### Nested Lists\n",
    "\n",
    "Given the names and grades for each student in a Physics class of N students, store them in a nested list and print the name(s) of any student(s) having the second lowest grade.\n",
    "\n",
    "Note: If there are multiple students with the same grade, order their names alphabetically and print each name on a new line.\n",
    "\n",
    "Print the name(s) of any student(s) having the second lowest grade in Physics; if there are multiple students, order their names alphabetically and print each one on a new line.\n",
    "\n",
    "```5\n",
    "Harry\n",
    "37.21\n",
    "Berry\n",
    "37.21\n",
    "Tina\n",
    "37.2\n",
    "Akriti\n",
    "41\n",
    "Harsh\n",
    "39```"
   ]
  },
  {
   "cell_type": "code",
   "execution_count": null,
   "metadata": {
    "collapsed": false
   },
   "outputs": [],
   "source": [
    "lines = 4\n",
    "kids = \"\"\"Shadab\n",
    "8\n",
    "Varun\n",
    "8.9\n",
    "Sarvesh\n",
    "9.5\n",
    "Harsh\n",
    "10\"\"\".split()\n",
    "\n",
    "# lines = int(raw_input().strip())\n",
    "# kids = [raw_input().strip() for _ in range(lines*2)]\n",
    "\n",
    "children = {}\n",
    "for i in range(lines):\n",
    "    children.setdefault(float(kids[2*i+1]),[]).append(kids[2*i])\n",
    "for child in sorted(children[sorted(children)[1]]):\n",
    "    print child"
   ]
  },
  {
   "cell_type": "markdown",
   "metadata": {},
   "source": [
    "### Finding the percentage\n",
    "You have a record of N students. Each record contains the student's name, and their percent marks in Maths, Physics and Chemistry. The marks can be floating values. The user enters some integer N followed by the names and marks for N students. You are required to save the record in a dictionary data type. The user then enters a student's name. Output the average percentage marks obtained by that student, correct to two decimal places.\n",
    "\n",
    "Output Format\n",
    "Print one line: The average of the marks obtained by the particular student correct to 2 decimal places.\n",
    "\n",
    "Sample Input\n",
    "\n",
    "```\n",
    "3\n",
    "Krishna 67 68 69\n",
    "Arjun 70 98 63\n",
    "Malika 52 56 60\n",
    "Malika```\n",
    "\n",
    "Sample Output\n",
    "\n",
    "56.00"
   ]
  },
  {
   "cell_type": "code",
   "execution_count": null,
   "metadata": {
    "collapsed": false
   },
   "outputs": [],
   "source": [
    "n = int(raw_input().strip())\n",
    "d = {}\n",
    "for _ in range(n):\n",
    "    line = raw_input().strip().split()\n",
    "    name = line[0]\n",
    "    grades = map(float, line[1:])\n",
    "    d[name] = grades\n",
    "query = raw_input().strip()\n",
    "print \"%.2f\" % (sum(d[query]) / len(d[query]))"
   ]
  },
  {
   "cell_type": "markdown",
   "metadata": {},
   "source": [
    "# [Strings Challenges](https://www.hackerrank.com/domains/python/py-strings/)"
   ]
  },
  {
   "cell_type": "markdown",
   "metadata": {
    "collapsed": true
   },
   "source": [
    "### sWAP cASE"
   ]
  },
  {
   "cell_type": "code",
   "execution_count": null,
   "metadata": {
    "collapsed": false
   },
   "outputs": [],
   "source": [
    "print ''.join(map(str.swapcase, raw_input().strip()))"
   ]
  },
  {
   "cell_type": "markdown",
   "metadata": {},
   "source": [
    "### String Split and Join"
   ]
  },
  {
   "cell_type": "code",
   "execution_count": null,
   "metadata": {
    "collapsed": false
   },
   "outputs": [],
   "source": [
    "print '-'.join(raw_input().split(' '))"
   ]
  },
  {
   "cell_type": "markdown",
   "metadata": {},
   "source": [
    "### What's your name?"
   ]
  },
  {
   "cell_type": "code",
   "execution_count": null,
   "metadata": {
    "collapsed": false
   },
   "outputs": [],
   "source": [
    "print 'Hello %s %s! You just delved into python.' % (raw_input().strip(), raw_input().strip())"
   ]
  },
  {
   "cell_type": "markdown",
   "metadata": {},
   "source": [
    "### Mutations"
   ]
  },
  {
   "cell_type": "code",
   "execution_count": null,
   "metadata": {
    "collapsed": false
   },
   "outputs": [],
   "source": [
    "s = raw_input().strip()\n",
    "i, c = raw_input().strip().split()\n",
    "i = int(i)\n",
    "print s[:i] + c + s[i+1:]"
   ]
  },
  {
   "cell_type": "markdown",
   "metadata": {},
   "source": [
    "### Find a string"
   ]
  },
  {
   "cell_type": "code",
   "execution_count": null,
   "metadata": {
    "collapsed": false
   },
   "outputs": [],
   "source": [
    "string, substring = raw_input(), raw_input()\n",
    "print sum(string[i:].startswith(substring) for i in range(len(string)))"
   ]
  },
  {
   "cell_type": "markdown",
   "metadata": {},
   "source": [
    "### String Validators"
   ]
  },
  {
   "cell_type": "code",
   "execution_count": null,
   "metadata": {
    "collapsed": false
   },
   "outputs": [],
   "source": [
    "s = raw_input().strip()\n",
    "print bool(sum([c.isalnum() for c in s]))\n",
    "print bool(sum([c.isalpha() for c in s]))\n",
    "print bool(sum([c.isdigit() for c in s]))\n",
    "print bool(sum([c.islower() for c in s]))\n",
    "print bool(sum([c.isupper() for c in s]))"
   ]
  },
  {
   "cell_type": "markdown",
   "metadata": {},
   "source": [
    "### Text Alignment"
   ]
  },
  {
   "cell_type": "code",
   "execution_count": null,
   "metadata": {
    "collapsed": false
   },
   "outputs": [],
   "source": [
    "#Replace all ______ with rjust, ljust or center. \n",
    "\n",
    "thickness = int(raw_input()) #This must be an odd number\n",
    "c = 'H'\n",
    "\n",
    "#Top Cone\n",
    "for i in range(thickness):\n",
    "    print (c*i).rjust(thickness-1)+c+(c*i).ljust(thickness-1)\n",
    "\n",
    "#Top Pillars\n",
    "for i in range(thickness+1):\n",
    "    print (c*thickness).center(thickness*2)+(c*thickness).center(thickness*6)\n",
    "\n",
    "#Middle Belt\n",
    "for i in range((thickness+1)/2):\n",
    "    print (c*thickness*5).center(thickness*6)    \n",
    "\n",
    "#Bottom Pillars\n",
    "for i in range(thickness+1):\n",
    "    print (c*thickness).center(thickness*2)+(c*thickness).center(thickness*6)    \n",
    "\n",
    "#Bottom Cone\n",
    "for i in range(thickness):\n",
    "    print ((c*(thickness-i-1)).rjust(thickness)+c+(c*(thickness-i-1)).ljust(thickness)).rjust(thickness*6)    \n"
   ]
  },
  {
   "cell_type": "markdown",
   "metadata": {},
   "source": [
    "### Text Wrap"
   ]
  },
  {
   "cell_type": "code",
   "execution_count": null,
   "metadata": {
    "collapsed": false
   },
   "outputs": [],
   "source": [
    "import textwrap\n",
    "string = raw_input().strip()\n",
    "chars = int(raw_input())\n",
    "print textwrap.fill(string, chars)"
   ]
  },
  {
   "cell_type": "markdown",
   "metadata": {},
   "source": [
    "### Designer Door Mat"
   ]
  },
  {
   "cell_type": "code",
   "execution_count": null,
   "metadata": {
    "collapsed": false
   },
   "outputs": [],
   "source": [
    "sampleInput = '9 27'\n",
    "n, m = map(int, sampleInput.split())\n",
    "lines = [('.|.' * i).center(m, '-') for i in range(1, n, 2)]\n",
    "print '\\n'.join(lines+['WELCOME'.center(m,'-')]+lines[::-1])"
   ]
  },
  {
   "cell_type": "markdown",
   "metadata": {},
   "source": [
    "### String Formatting"
   ]
  },
  {
   "cell_type": "code",
   "execution_count": null,
   "metadata": {
    "collapsed": false
   },
   "outputs": [],
   "source": [
    "n = int(raw_input())\n",
    "width = len(bin(n)[2:])\n",
    "for i in xrange(1, n+1):\n",
    "    print ' '.join([x.rjust(width) for x in [str(i), oct(i)[1:], hex(i)[2:].upper(), bin(i)[2:]]])"
   ]
  },
  {
   "cell_type": "markdown",
   "metadata": {},
   "source": [
    "### Alphabet Rangoli"
   ]
  },
  {
   "cell_type": "code",
   "execution_count": null,
   "metadata": {
    "collapsed": false
   },
   "outputs": [],
   "source": [
    "n = int(raw_input())\n",
    "width = 4*n-3\n",
    "lines = [(chr(ord('a')+n-1)).center(width, '-')]\n",
    "for i in range(2, n+1):\n",
    "    s = '-'.join([chr(ord('a') + (n-x-1)) for x in range(i)])\n",
    "    lines.append('-'.join([s, s[:-2][::-1]]).center(width, '-'))\n",
    "print '\\n'.join(lines)\n",
    "for line in lines[::-1][1:]:\n",
    "    print line"
   ]
  },
  {
   "cell_type": "markdown",
   "metadata": {},
   "source": [
    "### Capitalize!"
   ]
  },
  {
   "cell_type": "code",
   "execution_count": null,
   "metadata": {
    "collapsed": false
   },
   "outputs": [],
   "source": [
    "# Wrong\n",
    "s = raw_input()\n",
    "print ' '.join([x.capitalize() for x in s.split()])"
   ]
  },
  {
   "cell_type": "code",
   "execution_count": null,
   "metadata": {
    "collapsed": false
   },
   "outputs": [],
   "source": [
    "# Right\n",
    "s = raw_input()\n",
    "for x in s.split():\n",
    "    s = s.replace(x, x.capitalize())\n",
    "print s"
   ]
  },
  {
   "cell_type": "markdown",
   "metadata": {},
   "source": [
    "### The Minion Game"
   ]
  },
  {
   "cell_type": "code",
   "execution_count": null,
   "metadata": {
    "collapsed": false
   },
   "outputs": [],
   "source": [
    "import string"
   ]
  },
  {
   "cell_type": "code",
   "execution_count": null,
   "metadata": {
    "collapsed": false
   },
   "outputs": [],
   "source": [
    "s = raw_input().strip()\n",
    "v = 'AEIOU'\n",
    "\n",
    "def get_all_substrings(s):\n",
    "    words = set()\n",
    "    for i in range(len(s)):\n",
    "        words.add(s[i])\n",
    "        for j in range(2, len(s)-i+1):\n",
    "            words.add(s[i:i+j])\n",
    "    return words\n",
    "\n",
    "def count_occurances(s, word):\n",
    "    # It seems like s.count(word) isn't accurate\n",
    "    num = 0\n",
    "    for i in range(len(s)):\n",
    "        if s[i:].startswith(word):\n",
    "            num += 1\n",
    "    return num\n",
    "\n",
    "words = get_all_substrings(s)\n",
    "\n",
    "vWords = filter(lambda x: x[0] in v, words)\n",
    "cWords = filter(lambda x: x[0] not in v, words)\n",
    "\n",
    "vScoreDict = {x:count_occurances(s, x) for x in vWords}\n",
    "cScoreDict = {x:count_occurances(s, x) for x in cWords}\n",
    "\n",
    "vScore = sum(vScoreDict.values())\n",
    "cScore = sum(cScoreDict.values())\n",
    "\n",
    "# print vScoreDict, vScore\n",
    "# print cScoreDict, cScore\n",
    "\n",
    "if cScore == vScore:\n",
    "    print 'Draw'\n",
    "elif cScore > vScore:\n",
    "    print 'Stuart', cScore\n",
    "else:\n",
    "    print 'Kevin', vScore"
   ]
  },
  {
   "cell_type": "code",
   "execution_count": null,
   "metadata": {
    "collapsed": false
   },
   "outputs": [],
   "source": [
    "get_all_substrings('HUHUHUHU')"
   ]
  },
  {
   "cell_type": "code",
   "execution_count": null,
   "metadata": {
    "collapsed": true
   },
   "outputs": [],
   "source": [
    "s = raw_input()\n",
    "\n",
    "vowels = 'AEIOU'\n",
    "\n",
    "kevsc = 0\n",
    "stusc = 0\n",
    "for i in xrange(len(s)):\n",
    "    if s[i] in vowels:\n",
    "        kevsc += (len(s)-i)\n",
    "    else:\n",
    "        stusc += (len(s)-i)\n",
    "\n",
    "if kevsc > stusc:\n",
    "    print \"Kevin\", kevsc\n",
    "elif kevsc < stusc:\n",
    "    print \"Stuart\", stusc\n",
    "else:\n",
    "    print \"Draw\""
   ]
  },
  {
   "cell_type": "markdown",
   "metadata": {},
   "source": [
    "###Merge the Tools!"
   ]
  },
  {
   "cell_type": "code",
   "execution_count": null,
   "metadata": {
    "collapsed": false
   },
   "outputs": [],
   "source": [
    "import textwrap\n",
    "\n",
    "s = raw_input()\n",
    "k = int(raw_input())\n",
    "\n",
    "# Split the string into n/k parts\n",
    "parts = textwrap.wrap(s, k)\n",
    "\n",
    "for part in parts:\n",
    "    mod = []\n",
    "    [mod.append(x) for x in part if x not in mod]\n",
    "    print ''.join(mod)"
   ]
  },
  {
   "cell_type": "markdown",
   "metadata": {},
   "source": [
    "# [Basic Data Types Challenges](https://www.hackerrank.com/domains/python/py-basic-data-types/)"
   ]
  },
  {
   "cell_type": "code",
   "execution_count": null,
   "metadata": {
    "collapsed": true
   },
   "outputs": [],
   "source": []
  }
 ],
 "metadata": {
  "kernelspec": {
   "display_name": "Python 2",
   "language": "python",
   "name": "python2"
  },
  "language_info": {
   "codemirror_mode": {
    "name": "ipython",
    "version": 2
   },
   "file_extension": ".py",
   "mimetype": "text/x-python",
   "name": "python",
   "nbconvert_exporter": "python",
   "pygments_lexer": "ipython2",
   "version": "2.7.11"
  }
 },
 "nbformat": 4,
 "nbformat_minor": 0
}
