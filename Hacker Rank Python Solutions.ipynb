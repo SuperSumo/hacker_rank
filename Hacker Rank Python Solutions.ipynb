{
 "cells": [
  {
   "cell_type": "markdown",
   "metadata": {},
   "source": [
    "### https://www.hackerrank.com/domains/python/py-introduction"
   ]
  },
  {
   "cell_type": "markdown",
   "metadata": {},
   "source": [
    "### Python - Write a function"
   ]
  },
  {
   "cell_type": "code",
   "execution_count": 36,
   "metadata": {
    "collapsed": false
   },
   "outputs": [
    {
     "name": "stdout",
     "output_type": "stream",
     "text": [
      "True True\n",
      "True True\n",
      "False False\n",
      "False False\n",
      "False False\n",
      "False False\n",
      "False False\n",
      "False False\n",
      "True True\n"
     ]
    }
   ],
   "source": [
    "years = [2000, 2400, 1800, 1900, 2100, 2200, 2300, 2500, 1992]\n",
    "truths = [True, True, False, False, False, False, False, False, True]\n",
    "\n",
    "def is_leap(year):\n",
    "    leap = False\n",
    "    if not year % 4:\n",
    "        leap = True\n",
    "    if not year % 100:\n",
    "        leap = False\n",
    "        if not year % 400:\n",
    "            leap = True\n",
    "    return leap\n",
    "\n",
    "for i, year in enumerate(years):\n",
    "    print is_leap(year), truths[i]"
   ]
  },
  {
   "cell_type": "markdown",
   "metadata": {},
   "source": [
    "### Python - Print Function"
   ]
  },
  {
   "cell_type": "code",
   "execution_count": 2,
   "metadata": {
    "collapsed": false,
    "scrolled": true
   },
   "outputs": [
    {
     "name": "stdout",
     "output_type": "stream",
     "text": [
      "4\n",
      "1234\n"
     ]
    }
   ],
   "source": [
    "# Enter your code here. Read input from STDIN. Print output to STDOUT\n",
    "N = int(raw_input())\n",
    "\n",
    "# from __future__ import print_function\n",
    "# import sys\n",
    "# print(*xrange(1,N+1), sep='', end='\\n', file=sys.stdout)\n",
    "\n",
    "# Here's a method using string manipulation functions, which they didn't want originally, but I've never used the print_function before.\n",
    "print(''.join([str(x) for x in xrange(1,N+1)]))"
   ]
  },
  {
   "cell_type": "markdown",
   "metadata": {},
   "source": [
    "### Python - Find Angle MBC"
   ]
  },
  {
   "cell_type": "code",
   "execution_count": 1,
   "metadata": {
    "collapsed": false
   },
   "outputs": [
    {
     "name": "stdout",
     "output_type": "stream",
     "text": [
      "4\n",
      "5\n",
      "39°\n"
     ]
    }
   ],
   "source": [
    "AB = float(raw_input())\n",
    "BC = float(raw_input())\n",
    "\n",
    "mY = AB / 2.0\n",
    "mX = BC / 2.0\n",
    "\n",
    "import math\n",
    "print '%i°' % int(round(math.degrees(math.atan2(mY, mX))))"
   ]
  }
 ],
 "metadata": {
  "kernelspec": {
   "display_name": "Python 2",
   "language": "python",
   "name": "python2"
  },
  "language_info": {
   "codemirror_mode": {
    "name": "ipython",
    "version": 2
   },
   "file_extension": ".py",
   "mimetype": "text/x-python",
   "name": "python",
   "nbconvert_exporter": "python",
   "pygments_lexer": "ipython2",
   "version": "2.7.11"
  }
 },
 "nbformat": 4,
 "nbformat_minor": 0
}
