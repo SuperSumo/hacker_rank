{
 "cells": [
  {
   "cell_type": "markdown",
   "metadata": {},
   "source": [
    "<div style=\"font: bold 32pt sans;\"> [Python](https://www.hackerrank.com/domains/python/)</div>"
   ]
  },
  {
   "cell_type": "markdown",
   "metadata": {},
   "source": [
    "# [Introduction Challenges](https://www.hackerrank.com/domains/python/py-introduction)"
   ]
  },
  {
   "cell_type": "markdown",
   "metadata": {},
   "source": [
    "### Write a function"
   ]
  },
  {
   "cell_type": "code",
   "execution_count": null,
   "metadata": {
    "collapsed": false
   },
   "outputs": [],
   "source": [
    "years = [2000, 2400, 1800, 1900, 2100, 2200, 2300, 2500, 1992]\n",
    "truths = [True, True, False, False, False, False, False, False, True]\n",
    "\n",
    "def is_leap(year):\n",
    "    leap = False\n",
    "    if not year % 4:\n",
    "        leap = True\n",
    "    if not year % 100:\n",
    "        leap = False\n",
    "        if not year % 400:\n",
    "            leap = True\n",
    "    return leap\n",
    "\n",
    "for i, year in enumerate(years):\n",
    "    print is_leap(year), truths[i]"
   ]
  },
  {
   "cell_type": "markdown",
   "metadata": {},
   "source": [
    "### Print Function"
   ]
  },
  {
   "cell_type": "code",
   "execution_count": null,
   "metadata": {
    "collapsed": false,
    "scrolled": true
   },
   "outputs": [],
   "source": [
    "# Enter your code here. Read input from STDIN. Print output to STDOUT\n",
    "N = int(raw_input())\n",
    "\n",
    "# from __future__ import print_function\n",
    "# import sys\n",
    "# print(*xrange(1,N+1), sep='', end='\\n', file=sys.stdout)\n",
    "\n",
    "# Here's a method using string manipulation functions, which they didn't want originally, but I've never used the print_function before.\n",
    "print(''.join([str(x) for x in xrange(1,N+1)]))"
   ]
  },
  {
   "cell_type": "markdown",
   "metadata": {},
   "source": [
    "# [Basic Data Types Challenges](https://www.hackerrank.com/domains/python/py-basic-data-types)"
   ]
  },
  {
   "cell_type": "markdown",
   "metadata": {},
   "source": [
    "### Lists"
   ]
  },
  {
   "cell_type": "code",
   "execution_count": null,
   "metadata": {
    "collapsed": false
   },
   "outputs": [],
   "source": [
    "n = int(raw_input().strip())\n",
    "l = []\n",
    "for _ in xrange(n):\n",
    "    commandList = raw_input().strip().split()\n",
    "    command = commandList[0]\n",
    "    commandArgs = [int(x) for x in commandList[1:]]\n",
    "    if command == 'print':\n",
    "        print l\n",
    "    else:\n",
    "        l.__getattribute__(command)(*commandArgs)"
   ]
  },
  {
   "cell_type": "markdown",
   "metadata": {},
   "source": [
    "### Tuples"
   ]
  },
  {
   "cell_type": "code",
   "execution_count": null,
   "metadata": {
    "collapsed": false
   },
   "outputs": [],
   "source": [
    "n = int(raw_input().strip())\n",
    "print hash(tuple(map(int, raw_input().strip().split())))"
   ]
  },
  {
   "cell_type": "markdown",
   "metadata": {},
   "source": [
    "### List Comprehensions"
   ]
  },
  {
   "cell_type": "code",
   "execution_count": null,
   "metadata": {
    "collapsed": false
   },
   "outputs": [],
   "source": [
    "x = int(raw_input().strip())\n",
    "y = int(raw_input().strip())\n",
    "z = int(raw_input().strip())\n",
    "n = int(raw_input().strip())\n",
    "\n",
    "print [[a, b, c] for a in range(x+1) for b in range(y+1) for c in range(z+1) if sum([a, b, c]) != n]"
   ]
  },
  {
   "cell_type": "markdown",
   "metadata": {},
   "source": [
    "### Find the Second Largest Number"
   ]
  },
  {
   "cell_type": "code",
   "execution_count": null,
   "metadata": {
    "collapsed": true
   },
   "outputs": [],
   "source": [
    "n = int(raw_input().strip())\n",
    "nums = map(int, raw_input().strip().split())\n",
    "nums = list(set(nums))\n",
    "nums.sort()\n",
    "nums.reverse()\n",
    "print nums[1]"
   ]
  },
  {
   "cell_type": "markdown",
   "metadata": {},
   "source": [
    "### Nested Lists\n",
    "\n",
    "Given the names and grades for each student in a Physics class of N students, store them in a nested list and print the name(s) of any student(s) having the second lowest grade.\n",
    "\n",
    "Note: If there are multiple students with the same grade, order their names alphabetically and print each name on a new line.\n",
    "\n",
    "Print the name(s) of any student(s) having the second lowest grade in Physics; if there are multiple students, order their names alphabetically and print each one on a new line.\n",
    "\n",
    "```5\n",
    "Harry\n",
    "37.21\n",
    "Berry\n",
    "37.21\n",
    "Tina\n",
    "37.2\n",
    "Akriti\n",
    "41\n",
    "Harsh\n",
    "39```"
   ]
  },
  {
   "cell_type": "code",
   "execution_count": null,
   "metadata": {
    "collapsed": false
   },
   "outputs": [],
   "source": [
    "lines = 4\n",
    "kids = \"\"\"Shadab\n",
    "8\n",
    "Varun\n",
    "8.9\n",
    "Sarvesh\n",
    "9.5\n",
    "Harsh\n",
    "10\"\"\".split()\n",
    "\n",
    "# lines = int(raw_input().strip())\n",
    "# kids = [raw_input().strip() for _ in range(lines*2)]\n",
    "\n",
    "children = {}\n",
    "for i in range(lines):\n",
    "    children.setdefault(float(kids[2*i+1]),[]).append(kids[2*i])\n",
    "for child in sorted(children[sorted(children)[1]]):\n",
    "    print child"
   ]
  },
  {
   "cell_type": "markdown",
   "metadata": {},
   "source": [
    "### Finding the percentage\n",
    "You have a record of N students. Each record contains the student's name, and their percent marks in Maths, Physics and Chemistry. The marks can be floating values. The user enters some integer N followed by the names and marks for N students. You are required to save the record in a dictionary data type. The user then enters a student's name. Output the average percentage marks obtained by that student, correct to two decimal places.\n",
    "\n",
    "Output Format\n",
    "Print one line: The average of the marks obtained by the particular student correct to 2 decimal places.\n",
    "\n",
    "Sample Input\n",
    "\n",
    "```\n",
    "3\n",
    "Krishna 67 68 69\n",
    "Arjun 70 98 63\n",
    "Malika 52 56 60\n",
    "Malika```\n",
    "\n",
    "Sample Output\n",
    "\n",
    "56.00"
   ]
  },
  {
   "cell_type": "code",
   "execution_count": null,
   "metadata": {
    "collapsed": false
   },
   "outputs": [],
   "source": [
    "n = int(raw_input().strip())\n",
    "d = {}\n",
    "for _ in range(n):\n",
    "    line = raw_input().strip().split()\n",
    "    name = line[0]\n",
    "    grades = map(float, line[1:])\n",
    "    d[name] = grades\n",
    "query = raw_input().strip()\n",
    "print \"%.2f\" % (sum(d[query]) / len(d[query]))"
   ]
  },
  {
   "cell_type": "markdown",
   "metadata": {},
   "source": [
    "# [Strings Challenges](https://www.hackerrank.com/domains/python/py-strings/)"
   ]
  },
  {
   "cell_type": "markdown",
   "metadata": {
    "collapsed": true
   },
   "source": [
    "### sWAP cASE"
   ]
  },
  {
   "cell_type": "code",
   "execution_count": null,
   "metadata": {
    "collapsed": false
   },
   "outputs": [],
   "source": [
    "print ''.join(map(str.swapcase, raw_input().strip()))"
   ]
  },
  {
   "cell_type": "markdown",
   "metadata": {},
   "source": [
    "### String Split and Join"
   ]
  },
  {
   "cell_type": "code",
   "execution_count": null,
   "metadata": {
    "collapsed": false
   },
   "outputs": [],
   "source": [
    "print '-'.join(raw_input().split(' '))"
   ]
  },
  {
   "cell_type": "markdown",
   "metadata": {},
   "source": [
    "### What's your name?"
   ]
  },
  {
   "cell_type": "code",
   "execution_count": null,
   "metadata": {
    "collapsed": false
   },
   "outputs": [],
   "source": [
    "print 'Hello %s %s! You just delved into python.' % (raw_input().strip(), raw_input().strip())"
   ]
  },
  {
   "cell_type": "markdown",
   "metadata": {},
   "source": [
    "### Mutations"
   ]
  },
  {
   "cell_type": "code",
   "execution_count": null,
   "metadata": {
    "collapsed": false
   },
   "outputs": [],
   "source": [
    "s = raw_input().strip()\n",
    "i, c = raw_input().strip().split()\n",
    "i = int(i)\n",
    "print s[:i] + c + s[i+1:]"
   ]
  },
  {
   "cell_type": "markdown",
   "metadata": {},
   "source": [
    "### Find a string"
   ]
  },
  {
   "cell_type": "code",
   "execution_count": null,
   "metadata": {
    "collapsed": false
   },
   "outputs": [],
   "source": [
    "string, substring = raw_input(), raw_input()\n",
    "print sum(string[i:].startswith(substring) for i in range(len(string)))"
   ]
  },
  {
   "cell_type": "markdown",
   "metadata": {},
   "source": [
    "### String Validators"
   ]
  },
  {
   "cell_type": "code",
   "execution_count": null,
   "metadata": {
    "collapsed": false
   },
   "outputs": [],
   "source": [
    "s = raw_input().strip()\n",
    "print bool(sum([c.isalnum() for c in s]))\n",
    "print bool(sum([c.isalpha() for c in s]))\n",
    "print bool(sum([c.isdigit() for c in s]))\n",
    "print bool(sum([c.islower() for c in s]))\n",
    "print bool(sum([c.isupper() for c in s]))"
   ]
  },
  {
   "cell_type": "markdown",
   "metadata": {},
   "source": [
    "### Text Alignment"
   ]
  },
  {
   "cell_type": "code",
   "execution_count": null,
   "metadata": {
    "collapsed": false
   },
   "outputs": [],
   "source": [
    "#Replace all ______ with rjust, ljust or center. \n",
    "\n",
    "thickness = int(raw_input()) #This must be an odd number\n",
    "c = 'H'\n",
    "\n",
    "#Top Cone\n",
    "for i in range(thickness):\n",
    "    print (c*i).rjust(thickness-1)+c+(c*i).ljust(thickness-1)\n",
    "\n",
    "#Top Pillars\n",
    "for i in range(thickness+1):\n",
    "    print (c*thickness).center(thickness*2)+(c*thickness).center(thickness*6)\n",
    "\n",
    "#Middle Belt\n",
    "for i in range((thickness+1)/2):\n",
    "    print (c*thickness*5).center(thickness*6)    \n",
    "\n",
    "#Bottom Pillars\n",
    "for i in range(thickness+1):\n",
    "    print (c*thickness).center(thickness*2)+(c*thickness).center(thickness*6)    \n",
    "\n",
    "#Bottom Cone\n",
    "for i in range(thickness):\n",
    "    print ((c*(thickness-i-1)).rjust(thickness)+c+(c*(thickness-i-1)).ljust(thickness)).rjust(thickness*6)    \n"
   ]
  },
  {
   "cell_type": "markdown",
   "metadata": {},
   "source": [
    "### Text Wrap"
   ]
  },
  {
   "cell_type": "code",
   "execution_count": null,
   "metadata": {
    "collapsed": false
   },
   "outputs": [],
   "source": [
    "import textwrap\n",
    "string = raw_input().strip()\n",
    "chars = int(raw_input())\n",
    "print textwrap.fill(string, chars)"
   ]
  },
  {
   "cell_type": "markdown",
   "metadata": {},
   "source": [
    "### Designer Door Mat"
   ]
  },
  {
   "cell_type": "code",
   "execution_count": null,
   "metadata": {
    "collapsed": false
   },
   "outputs": [],
   "source": [
    "sampleInput = '9 27'\n",
    "n, m = map(int, sampleInput.split())\n",
    "lines = [('.|.' * i).center(m, '-') for i in range(1, n, 2)]\n",
    "print '\\n'.join(lines+['WELCOME'.center(m,'-')]+lines[::-1])"
   ]
  },
  {
   "cell_type": "markdown",
   "metadata": {},
   "source": [
    "### String Formatting"
   ]
  },
  {
   "cell_type": "code",
   "execution_count": null,
   "metadata": {
    "collapsed": false
   },
   "outputs": [],
   "source": [
    "n = int(raw_input())\n",
    "width = len(bin(n)[2:])\n",
    "for i in xrange(1, n+1):\n",
    "    print ' '.join([x.rjust(width) for x in [str(i), oct(i)[1:], hex(i)[2:].upper(), bin(i)[2:]]])"
   ]
  },
  {
   "cell_type": "markdown",
   "metadata": {},
   "source": [
    "### Alphabet Rangoli"
   ]
  },
  {
   "cell_type": "code",
   "execution_count": null,
   "metadata": {
    "collapsed": false
   },
   "outputs": [],
   "source": [
    "n = int(raw_input())\n",
    "width = 4*n-3\n",
    "lines = [(chr(ord('a')+n-1)).center(width, '-')]\n",
    "for i in range(2, n+1):\n",
    "    s = '-'.join([chr(ord('a') + (n-x-1)) for x in range(i)])\n",
    "    lines.append('-'.join([s, s[:-2][::-1]]).center(width, '-'))\n",
    "print '\\n'.join(lines)\n",
    "for line in lines[::-1][1:]:\n",
    "    print line"
   ]
  },
  {
   "cell_type": "markdown",
   "metadata": {},
   "source": [
    "### Capitalize!"
   ]
  },
  {
   "cell_type": "code",
   "execution_count": null,
   "metadata": {
    "collapsed": false
   },
   "outputs": [],
   "source": [
    "# Wrong\n",
    "s = raw_input()\n",
    "print ' '.join([x.capitalize() for x in s.split()])"
   ]
  },
  {
   "cell_type": "code",
   "execution_count": null,
   "metadata": {
    "collapsed": false
   },
   "outputs": [],
   "source": [
    "# Right\n",
    "s = raw_input()\n",
    "for x in s.split():\n",
    "    s = s.replace(x, x.capitalize())\n",
    "print s"
   ]
  },
  {
   "cell_type": "markdown",
   "metadata": {},
   "source": [
    "### The Minion Game"
   ]
  },
  {
   "cell_type": "code",
   "execution_count": null,
   "metadata": {
    "collapsed": false
   },
   "outputs": [],
   "source": [
    "import string"
   ]
  },
  {
   "cell_type": "code",
   "execution_count": null,
   "metadata": {
    "collapsed": false
   },
   "outputs": [],
   "source": [
    "s = raw_input().strip()\n",
    "v = 'AEIOU'\n",
    "\n",
    "def get_all_substrings(s):\n",
    "    words = set()\n",
    "    for i in range(len(s)):\n",
    "        words.add(s[i])\n",
    "        for j in range(2, len(s)-i+1):\n",
    "            words.add(s[i:i+j])\n",
    "    return words\n",
    "\n",
    "def count_occurances(s, word):\n",
    "    # It seems like s.count(word) isn't accurate\n",
    "    num = 0\n",
    "    for i in range(len(s)):\n",
    "        if s[i:].startswith(word):\n",
    "            num += 1\n",
    "    return num\n",
    "\n",
    "words = get_all_substrings(s)\n",
    "\n",
    "vWords = filter(lambda x: x[0] in v, words)\n",
    "cWords = filter(lambda x: x[0] not in v, words)\n",
    "\n",
    "vScoreDict = {x:count_occurances(s, x) for x in vWords}\n",
    "cScoreDict = {x:count_occurances(s, x) for x in cWords}\n",
    "\n",
    "vScore = sum(vScoreDict.values())\n",
    "cScore = sum(cScoreDict.values())\n",
    "\n",
    "# print vScoreDict, vScore\n",
    "# print cScoreDict, cScore\n",
    "\n",
    "if cScore == vScore:\n",
    "    print 'Draw'\n",
    "elif cScore > vScore:\n",
    "    print 'Stuart', cScore\n",
    "else:\n",
    "    print 'Kevin', vScore"
   ]
  },
  {
   "cell_type": "code",
   "execution_count": null,
   "metadata": {
    "collapsed": false
   },
   "outputs": [],
   "source": [
    "get_all_substrings('HUHUHUHU')"
   ]
  },
  {
   "cell_type": "code",
   "execution_count": null,
   "metadata": {
    "collapsed": true
   },
   "outputs": [],
   "source": [
    "s = raw_input()\n",
    "\n",
    "vowels = 'AEIOU'\n",
    "\n",
    "kevsc = 0\n",
    "stusc = 0\n",
    "for i in xrange(len(s)):\n",
    "    if s[i] in vowels:\n",
    "        kevsc += (len(s)-i)\n",
    "    else:\n",
    "        stusc += (len(s)-i)\n",
    "\n",
    "if kevsc > stusc:\n",
    "    print \"Kevin\", kevsc\n",
    "elif kevsc < stusc:\n",
    "    print \"Stuart\", stusc\n",
    "else:\n",
    "    print \"Draw\""
   ]
  },
  {
   "cell_type": "markdown",
   "metadata": {},
   "source": [
    "###Merge the Tools!"
   ]
  },
  {
   "cell_type": "code",
   "execution_count": null,
   "metadata": {
    "collapsed": false
   },
   "outputs": [],
   "source": [
    "import textwrap\n",
    "\n",
    "s = raw_input()\n",
    "k = int(raw_input())\n",
    "\n",
    "# Split the string into n/k parts\n",
    "parts = textwrap.wrap(s, k)\n",
    "\n",
    "for part in parts:\n",
    "    mod = []\n",
    "    [mod.append(x) for x in part if x not in mod]\n",
    "    print ''.join(mod)"
   ]
  },
  {
   "cell_type": "markdown",
   "metadata": {},
   "source": [
    "# [Sets Challenges](https://www.hackerrank.com/domains/python/py-sets/)"
   ]
  },
  {
   "cell_type": "code",
   "execution_count": null,
   "metadata": {
    "collapsed": true
   },
   "outputs": [],
   "source": []
  },
  {
   "cell_type": "markdown",
   "metadata": {
    "collapsed": true
   },
   "source": [
    "# [Math Challenges](https://www.hackerrank.com/domains/python/py-math/)"
   ]
  },
  {
   "cell_type": "markdown",
   "metadata": {},
   "source": [
    "### Find Angle MBC"
   ]
  },
  {
   "cell_type": "code",
   "execution_count": null,
   "metadata": {
    "collapsed": false
   },
   "outputs": [],
   "source": [
    "AB = float(raw_input())\n",
    "BC = float(raw_input())\n",
    "\n",
    "mY = AB / 2.0\n",
    "mX = BC / 2.0\n",
    "\n",
    "import math\n",
    "print '%i°' % int(round(math.degrees(math.atan2(mY, mX))))"
   ]
  },
  {
   "cell_type": "markdown",
   "metadata": {},
   "source": [
    "# [Itertools Challenges](https://www.hackerrank.com/domains/python/py-itertools/)"
   ]
  },
  {
   "cell_type": "markdown",
   "metadata": {},
   "source": [
    "# [Collections Challenges](https://www.hackerrank.com/domains/python/py-collections/)"
   ]
  },
  {
   "cell_type": "markdown",
   "metadata": {},
   "source": [
    "### collections.Counter()"
   ]
  },
  {
   "cell_type": "code",
   "execution_count": null,
   "metadata": {
    "collapsed": false
   },
   "outputs": [],
   "source": [
    "from collections import Counter\n",
    "\n",
    "# x = int(raw_input().strip())\n",
    "# sizes = map(int, raw_input().strip().split())\n",
    "# numCustomers = int(raw_input().strip())\n",
    "# custList = [map(int, raw_input().strip().split()) for _ in xrange(numCustomers)]\n",
    "\n",
    "x = 10\n",
    "sizes = [2, 3, 4, 5, 6, 8, 7, 6, 5, 18]\n",
    "numCustomers = 6\n",
    "custList = [[6, 55], [6, 45], [6, 55], [4, 40], [18, 60], [10, 50]] # size of shoe, cost of shoe\n",
    "\n",
    "sizeCounter = Counter(sizes)\n",
    "\n",
    "moneyMade = 0\n",
    "for size, price in custList:\n",
    "    if size in sizeCounter and sizeCounter[size] > 0:\n",
    "        moneyMade += price\n",
    "        sizeCounter[size] -= 1\n",
    "\n",
    "print moneyMade"
   ]
  },
  {
   "cell_type": "markdown",
   "metadata": {},
   "source": [
    "### DefaultDict Tutorial"
   ]
  },
  {
   "cell_type": "code",
   "execution_count": null,
   "metadata": {
    "collapsed": false
   },
   "outputs": [],
   "source": [
    "from collections import defaultdict\n",
    "\n",
    "n, m = map(int, raw_input().strip().split())\n",
    "\n",
    "d = defaultdict(list)\n",
    "for i in range(n):\n",
    "    d[raw_input()].append(str(i+1))\n",
    "for _ in range(m):\n",
    "    key = raw_input()\n",
    "    if key in d:\n",
    "        print ' '.join(d[key])\n",
    "    else:\n",
    "        print -1"
   ]
  },
  {
   "cell_type": "markdown",
   "metadata": {},
   "source": [
    "### Collections.namedtuple()"
   ]
  },
  {
   "cell_type": "code",
   "execution_count": null,
   "metadata": {
    "collapsed": true
   },
   "outputs": [],
   "source": [
    "from collections import namedtuple\n",
    "n, Student = int(raw_input().strip()), namedtuple('Student', ','.join(raw_input().strip().split()))\n",
    "students = [Student(*raw_input().strip().split()) for _ in xrange(n)]\n",
    "print '%.2f' % (sum([int(x.MARKS) for x in students]) / float(n))"
   ]
  },
  {
   "cell_type": "markdown",
   "metadata": {},
   "source": [
    "### Collections.OrderedDict()"
   ]
  },
  {
   "cell_type": "code",
   "execution_count": null,
   "metadata": {
    "collapsed": false
   },
   "outputs": [],
   "source": [
    "\"hello my name is what\""
   ]
  },
  {
   "cell_type": "code",
   "execution_count": null,
   "metadata": {
    "collapsed": true
   },
   "outputs": [],
   "source": [
    "from collections import OrderedDict\n",
    "d = OrderedDict()\n",
    "for _ in range(int(raw_input().strip())):\n",
    "    key, _, val = raw_input().strip().rpartition(' ')\n",
    "    d[key] = d.get(key, 0) + int(val)\n",
    "for k, v in d.iteritems():\n",
    "    print k, v"
   ]
  },
  {
   "cell_type": "markdown",
   "metadata": {},
   "source": [
    "### [Word Order](https://www.hackerrank.com/challenges/word-order)"
   ]
  },
  {
   "cell_type": "code",
   "execution_count": null,
   "metadata": {
    "collapsed": false
   },
   "outputs": [],
   "source": [
    "'''\n",
    "4\n",
    "bcdef\n",
    "abcdefg\n",
    "bcde\n",
    "bcdef\n",
    "'''\n",
    "\n",
    "from collections import Counter, OrderedDict\n",
    "\n",
    "class OrderedCounter(Counter, OrderedDict):\n",
    "    pass\n",
    "\n",
    "oc = OrderedCounter([raw_input().strip() for _ in xrange(int(raw_input().strip()))])\n",
    "\n",
    "print len(oc)\n",
    "print ' '.join(map(str, oc.values()))"
   ]
  },
  {
   "cell_type": "markdown",
   "metadata": {},
   "source": [
    "### Collections.deque()"
   ]
  },
  {
   "cell_type": "code",
   "execution_count": null,
   "metadata": {
    "collapsed": false,
    "scrolled": true
   },
   "outputs": [],
   "source": [
    "from collections import deque\n",
    "d = deque()\n",
    "n = int(raw_input().strip())\n",
    "for _ in xrange(n):\n",
    "    func, _, args = raw_input().strip().partition(' ')\n",
    "    d.__getattribute__(func)(*args)\n",
    "while len(d):\n",
    "    print d.popleft(),"
   ]
  },
  {
   "cell_type": "markdown",
   "metadata": {},
   "source": [
    "### Piling Up!"
   ]
  },
  {
   "cell_type": "code",
   "execution_count": null,
   "metadata": {
    "collapsed": false
   },
   "outputs": [],
   "source": [
    "from collections import deque\n",
    "\n",
    "for _ in range(int(raw_input().strip())):\n",
    "    _, lengths = raw_input(), deque(map(int, raw_input().strip().split()))\n",
    "\n",
    "    # Read and reset state\n",
    "    curLength = 2**31\n",
    "    result = 'Yes'\n",
    "\n",
    "    while(len(lengths) and result == 'Yes'):\n",
    "        # Otherwise check both sides\n",
    "        left = lengths[0]\n",
    "        right = lengths[-1]\n",
    "\n",
    "        # Check the left and right sides\n",
    "        if left > right and left <= curLength:\n",
    "            curLength = lengths.popleft()\n",
    "        elif right >= left and right <= curLength:\n",
    "            curLength = lengths.pop()\n",
    "\n",
    "        # No side was good so we fail\n",
    "        else:\n",
    "            result = 'No'\n",
    "            break\n",
    "\n",
    "    print result"
   ]
  },
  {
   "cell_type": "code",
   "execution_count": null,
   "metadata": {
    "collapsed": false
   },
   "outputs": [],
   "source": [
    "# This is a nice solution *not* using deques. It works but it doesn't use the collections package.\n",
    "for t in range(int(raw_input())):\n",
    "    raw_input() # Ignore the length of the list\n",
    "    lengths = map(int, raw_input().split())\n",
    "    numLeft = len(lengths)\n",
    "    i = 0\n",
    "    while i < numLeft - 1 and lengths[i] >= lengths[i+1]:\n",
    "        i += 1\n",
    "    while i < numLeft - 1 and lengths[i] <= lengths[i+1]:\n",
    "        i += 1\n",
    "    print \"Yes\" if i == numLeft - 1 else \"No\""
   ]
  },
  {
   "cell_type": "markdown",
   "metadata": {},
   "source": [
    "### Most Common"
   ]
  },
  {
   "cell_type": "code",
   "execution_count": null,
   "metadata": {
    "collapsed": false
   },
   "outputs": [],
   "source": [
    "a = 'qwertyuiopasdfghjklzxcvbnm'\n",
    "# a 1\n",
    "# b 1\n",
    "# c 1"
   ]
  },
  {
   "cell_type": "code",
   "execution_count": null,
   "metadata": {
    "collapsed": true
   },
   "outputs": [],
   "source": [
    "a = 'aabbbccde'"
   ]
  },
  {
   "cell_type": "code",
   "execution_count": null,
   "metadata": {
    "collapsed": false
   },
   "outputs": [],
   "source": [
    "from collections import Counter, OrderedDict\n",
    "class OrderedCounter(Counter, OrderedDict):\n",
    "    pass\n",
    "for c in OrderedCounter(sorted(raw_input())).most_common(3):\n",
    "    print ' '.join(map(str, c))"
   ]
  },
  {
   "cell_type": "markdown",
   "metadata": {},
   "source": [
    "# [Date and Time Challenges](https://www.hackerrank.com/domains/python/py-date-time/)"
   ]
  },
  {
   "cell_type": "markdown",
   "metadata": {},
   "source": [
    "### Calendar Module"
   ]
  },
  {
   "cell_type": "code",
   "execution_count": null,
   "metadata": {
    "collapsed": false
   },
   "outputs": [],
   "source": [
    "import calendar\n",
    "# print calendar.TextCalendar(firstweekday=6).formatyear(2016) # NEAT!"
   ]
  },
  {
   "cell_type": "code",
   "execution_count": null,
   "metadata": {
    "collapsed": false,
    "scrolled": true
   },
   "outputs": [],
   "source": [
    "import calendar\n",
    "m, d, y = map(int, raw_input().strip().split())\n",
    "weekday = calendar.weekday(y, m, d)\n",
    "print  calendar.day_name[weekday].upper()"
   ]
  },
  {
   "cell_type": "markdown",
   "metadata": {},
   "source": [
    "### Time Delta"
   ]
  },
  {
   "cell_type": "code",
   "execution_count": null,
   "metadata": {
    "collapsed": false,
    "scrolled": true
   },
   "outputs": [],
   "source": [
    "from dateutil.parser import parse\n",
    "\n",
    "numSets = int(raw_input().strip())\n",
    "for _ in range(numSets):\n",
    "    t1 = parse(raw_input().strip())\n",
    "    t2 = parse(raw_input().strip())\n",
    "    print abs(int((t1 - t2).total_seconds()))"
   ]
  },
  {
   "cell_type": "markdown",
   "metadata": {},
   "source": [
    "# [Errors and Exceptions Challenges](https://www.hackerrank.com/domains/python/errors-exceptions/)"
   ]
  },
  {
   "cell_type": "markdown",
   "metadata": {},
   "source": [
    "# [Classes Challenges](https://www.hackerrank.com/domains/python/py-classes/)"
   ]
  },
  {
   "cell_type": "markdown",
   "metadata": {},
   "source": [
    "# [Built-Ins Challenges](https://www.hackerrank.com/domains/python/py-built-ins/)"
   ]
  },
  {
   "cell_type": "markdown",
   "metadata": {},
   "source": [
    "# [Functionals Challenges](https://www.hackerrank.com/domains/python/py-functionals/)"
   ]
  },
  {
   "cell_type": "markdown",
   "metadata": {},
   "source": [
    "### Map and Lambda Function"
   ]
  },
  {
   "cell_type": "code",
   "execution_count": null,
   "metadata": {
    "collapsed": false
   },
   "outputs": [],
   "source": [
    "%%timeit\n",
    "\n",
    "def F():\n",
    "    a, b = 0, 1\n",
    "    yield a\n",
    "    yield b\n",
    "    while True:\n",
    "        a, b = b, a + b\n",
    "        yield b\n",
    "\n",
    "def SubFib(n):\n",
    "    for i, cur in enumerate(F()):\n",
    "        yield cur\n",
    "        if i == n-1:\n",
    "            return\n",
    "\n",
    "fibs = [i for i in SubFib(25)]"
   ]
  },
  {
   "cell_type": "code",
   "execution_count": null,
   "metadata": {
    "collapsed": false,
    "scrolled": false
   },
   "outputs": [],
   "source": [
    "%%timeit\n",
    "\n",
    "def memoize(f):\n",
    "   cache = {}\n",
    "\n",
    "   def memoizedFunction(*args):\n",
    "      if args not in cache:\n",
    "         cache[args] = f(*args)\n",
    "      return cache[args]\n",
    "\n",
    "   memoizedFunction.cache = cache\n",
    "   return memoizedFunction\n",
    "\n",
    "@memoize\n",
    "def fib(n):\n",
    "   if n <= 2:\n",
    "      return 1\n",
    "   else:\n",
    "      return fib(n-1) + fib(n-2)\n",
    "\n",
    "fibs = [i for i in SubFib(25)]\n"
   ]
  },
  {
   "cell_type": "code",
   "execution_count": null,
   "metadata": {
    "collapsed": false
   },
   "outputs": [],
   "source": [
    "%%timeit\n",
    "# n = int(raw_input().strip())\n",
    "n = 25\n",
    "\n",
    "fibs = []\n",
    "for i in xrange(n):\n",
    "    if i==0:\n",
    "        fibs.append(0)\n",
    "    elif i==1:\n",
    "        fibs.append(1)\n",
    "    else:\n",
    "        fibs.append(sum([fibs[-1], fibs[-2]]))\n",
    "fibs\n",
    "# map(lambda x:x**3, fibs)"
   ]
  },
  {
   "cell_type": "markdown",
   "metadata": {},
   "source": [
    "### Validating Email Addresses With a Filter\n",
    "Valid email addresses must follow these rules:\n",
    "\n",
    "1. It must have the username@websitename.extension format type.\n",
    "- The username can only contain letters, digits, dashes and underscores.\n",
    "- The website name can only have letters and digits.\n",
    "- The maximum length of the extension is . "
   ]
  },
  {
   "cell_type": "markdown",
   "metadata": {},
   "source": [
    "<span style=\"color: red;\">I can do this but it's too long using filters. It's a stupid exercise.</span>"
   ]
  },
  {
   "cell_type": "code",
   "execution_count": null,
   "metadata": {
    "collapsed": false
   },
   "outputs": [],
   "source": [
    "n = 5\n",
    "emails = \"\"\"dheeraj-234@gmail.com\n",
    "itsallcrap\n",
    "harsh_1234@rediff.in\n",
    "kunal_shin@iop.az\n",
    "matt23@@india.in\"\"\".splitlines()\n",
    "\n",
    "# n = int(raw_input())\n",
    "# emails = [raw_input().strip() for _ in range(n)]\n",
    "print sorted(filter(lambda x: all(['@' in x,\n",
    "                                   x.count('@') == 1,\n",
    "                                   '.' in x,\n",
    "                                   x.find('@') < x.find('.')]),\n",
    "                    emails))"
   ]
  },
  {
   "cell_type": "markdown",
   "metadata": {},
   "source": [
    "# [Regex Challenges](https://www.hackerrank.com/domains/python/py-regex/)"
   ]
  },
  {
   "cell_type": "markdown",
   "metadata": {},
   "source": [
    "# [XML Challenges](https://www.hackerrank.com/domains/python/xml/)"
   ]
  },
  {
   "cell_type": "markdown",
   "metadata": {},
   "source": [
    "# [Closures and Decorators Challenges](https://www.hackerrank.com/domains/python/closures-and-decorators/)"
   ]
  },
  {
   "cell_type": "markdown",
   "metadata": {},
   "source": [
    "### Standardize Mobile Number Using Decorators\n",
    "\n",
    "Like most other programming languages, Python has the concept of closures. Extending these closures gives us decorators, which are an invaluable asset. You can learn about decorators in 12 easy steps [here](http://simeonfranklin.com/blog/2012/jul/1/python-decorators-in-12-steps/).\n",
    "To solve the above question, make a list of the mobile numbers and pass it to a function that sorts the array in ascending order. Make a decorator that standardizes the mobile numbers and apply it to the function.\n",
    "\n",
    "Sample Input\n",
    "\n",
    "```\n",
    "3\n",
    "07895462130\n",
    "919875641230\n",
    "9195969878\n",
    "```\n",
    "\n",
    "Sample Output\n",
    "\n",
    "```\n",
    "+91 78954 62130\n",
    "+91 91959 69878\n",
    "+91 98756 41230\n",
    "```"
   ]
  },
  {
   "cell_type": "code",
   "execution_count": null,
   "metadata": {
    "collapsed": false
   },
   "outputs": [],
   "source": [
    "phoneNumbers = ['07895462130',\n",
    "                '919875641230',\n",
    "                '9195969878']\n",
    "\n",
    "# phoneNumbers = [raw_input() for _ in range(int(raw_input()))]\n",
    "\n",
    "def sorted_wrapper(f):\n",
    "    def _sorted_wrapper(*args, **kwargs):\n",
    "        return sorted(f(*args, **kwargs))\n",
    "    return _sorted_wrapper\n",
    "\n",
    "@sorted_wrapper\n",
    "def standardize_phone_number(phoneNumbers):\n",
    "    return [' '.join(['+91', l[-10:-5], l[-5:]]) for l in phoneNumbers]\n",
    "\n",
    "print '\\n'.join(standardize_phone_number(phoneNumbers))"
   ]
  },
  {
   "cell_type": "markdown",
   "metadata": {},
   "source": [
    "### Decorators 2 - Name Directory"
   ]
  },
  {
   "cell_type": "code",
   "execution_count": null,
   "metadata": {
    "collapsed": false
   },
   "outputs": [],
   "source": [
    "names = ['Mike Thomson 20 M',\n",
    "         'Robert Bustle 32 M',\n",
    "         'Andria Bustle 30 F']\n",
    "[x.split() for x in names]"
   ]
  },
  {
   "cell_type": "code",
   "execution_count": null,
   "metadata": {
    "collapsed": false
   },
   "outputs": [],
   "source": [
    "import operator\n",
    "\n",
    "n = 3\n",
    "names = [['Mike', 'Thomson', '20', 'M'],\n",
    "         ['Robert', 'Bustle', '32', 'M'],\n",
    "         ['Andria', 'Bustle', '30', 'F']]\n",
    "\n",
    "# names = [raw_input().split() for _ in range(int(raw_input()))]\n",
    "\n",
    "def sorted_wrapper(f):\n",
    "    def _sorted_wrapper(names):\n",
    "        return [f(name) for name in sorted(names, key=operator.itemgetter(2))]\n",
    "#         return reversed(sorted(f(names), key=lambda x:int(x.split()[2])))\n",
    "    return _sorted_wrapper\n",
    "\n",
    "@sorted_wrapper\n",
    "def prepend_prefix(name):\n",
    "    prefix = {'M': 'Mr.',\n",
    "              'F': 'Mrs.'}[name[-1]]\n",
    "    return [prefix] + name\n",
    "\n",
    "for name in prepend_prefix(names):\n",
    "    print ' '.join(name[:3])\n",
    "# print '\\n'.join(fix_name(names))\n",
    "\n",
    "# print names\n",
    "# parsedNames = []\n",
    "# for name in names:\n",
    "#     first, last, age, sex = name.split(' ')\n",
    "#     parsedNames.append(' '.join(['Mr.' if sex == 'M' else 'Ms.', first, last]))\n",
    "# print parsedNames\n",
    "#     print name.split(' ')\n",
    "#     for x in name.split(' '):\n",
    "#         print x\n",
    "#         print ' '.join(['Mr.' if x[3] == 'M' else 'Ms.', x[0], x[1]])\n",
    "#     print [' '.join(['Mr.' if x[3] == 'M' else 'Ms.', x[0], x[1]]) for x in name.split(' ')]"
   ]
  },
  {
   "cell_type": "markdown",
   "metadata": {},
   "source": [
    "# [Numpy Challenges](https://www.hackerrank.com/domains/python/numpy/)"
   ]
  },
  {
   "cell_type": "code",
   "execution_count": null,
   "metadata": {
    "collapsed": true
   },
   "outputs": [],
   "source": []
  },
  {
   "cell_type": "markdown",
   "metadata": {},
   "source": [
    "<div style=\"font: bold 32pt sans;\"> [General - Data Structures](https://www.hackerrank.com/domains/data-structures/)</div>"
   ]
  },
  {
   "cell_type": "markdown",
   "metadata": {},
   "source": [
    "# [Arrays](https://www.hackerrank.com/domains/data-structures/arrays/)"
   ]
  },
  {
   "cell_type": "markdown",
   "metadata": {},
   "source": [
    "### Arrays"
   ]
  },
  {
   "cell_type": "code",
   "execution_count": null,
   "metadata": {
    "collapsed": true
   },
   "outputs": [],
   "source": [
    "n = int(raw_input().strip())\n",
    "arr = map(int,raw_input().strip().split(' '))\n",
    "\n",
    "arr.reverse()\n",
    "print ' '.join([str(x) for x in arr])"
   ]
  },
  {
   "cell_type": "markdown",
   "metadata": {},
   "source": [
    "### [2d Arrays](https://www.hackerrank.com/challenges/2d-array/)"
   ]
  },
  {
   "cell_type": "code",
   "execution_count": null,
   "metadata": {
    "collapsed": true
   },
   "outputs": [],
   "source": [
    "arr = []\n",
    "for arr_i in xrange(6):\n",
    "    arr_temp = map(int,raw_input().strip().split(' '))\n",
    "    arr.append(arr_temp)\n",
    "    \n",
    "\"\"\"\n",
    "1 1 1 0 0 0\n",
    "0 1 0 0 0 0\n",
    "1 1 1 0 0 0\n",
    "0 0 2 4 4 0\n",
    "0 0 0 2 0 0\n",
    "0 0 1 2 4 0\n",
    "\"\"\"\n",
    "\n",
    "maxValue = -999999\n",
    "for r in range(1,5):\n",
    "    for c in range(1,5):\n",
    "        value = sum([arr[r-1][c-1],\n",
    "                     arr[r-1][c],\n",
    "                     arr[r-1][c+1],\n",
    "                     arr[r][c],\n",
    "                     arr[r+1][c-1],\n",
    "                     arr[r+1][c],\n",
    "                     arr[r+1][c+1]])\n",
    "        if value > maxValue:\n",
    "            maxValue = value\n",
    "\n",
    "print maxValue"
   ]
  },
  {
   "cell_type": "markdown",
   "metadata": {},
   "source": [
    "### [Dynamic Array](https://www.hackerrank.com/challenges/dynamic-array/)"
   ]
  },
  {
   "cell_type": "code",
   "execution_count": null,
   "metadata": {
    "collapsed": true
   },
   "outputs": [],
   "source": [
    "N, Q = map(int, raw_input().strip().split(' '))\n",
    "queries = [map(int, raw_input().strip().split(' ')) for _ in range(Q)]\n",
    "\n",
    "lastAns = 0\n",
    "seqList = [[] for _ in range(N)]\n",
    "\n",
    "for qType, x, y in queries:\n",
    "    seqIndex = ((x ^ lastAns) % N)\n",
    "    if qType == 1:\n",
    "        seqList[seqIndex].append(y)\n",
    "    else:\n",
    "        seq = seqList[seqIndex]\n",
    "        lastAns = seq[y % len(seq)]\n",
    "        print lastAns"
   ]
  },
  {
   "cell_type": "markdown",
   "metadata": {},
   "source": [
    "### [Left Rotation](https://www.hackerrank.com/challenges/array-left-rotation/)"
   ]
  },
  {
   "cell_type": "code",
   "execution_count": null,
   "metadata": {
    "collapsed": true
   },
   "outputs": [],
   "source": [
    "n, d = map(int, raw_input().strip().split(' '))\n",
    "array = map(int, raw_input().strip().split(' '))\n",
    "\n",
    "def rotate(a, d):\n",
    "    l = len(a)\n",
    "    return a[d%l:] + a[:d%l]\n",
    "\n",
    "print ' '.join([str(x) for x in rotate(array, d)])"
   ]
  },
  {
   "cell_type": "markdown",
   "metadata": {},
   "source": [
    "### [Sparse Arrays](https://www.hackerrank.com/challenges/sparse-arrays/)"
   ]
  },
  {
   "cell_type": "code",
   "execution_count": null,
   "metadata": {
    "collapsed": true
   },
   "outputs": [],
   "source": [
    "N = int(raw_input().strip())\n",
    "strings = [raw_input().strip() for _ in range(N)]\n",
    "Q = int(raw_input().strip())\n",
    "queries = [raw_input().strip() for _ in range(Q)]\n",
    "\n",
    "for q in queries:\n",
    "    print strings.count(q)"
   ]
  },
  {
   "cell_type": "markdown",
   "metadata": {},
   "source": [
    "# [Linked Lists](https://www.hackerrank.com/domains/data-structures/linked-lists/)"
   ]
  },
  {
   "cell_type": "markdown",
   "metadata": {},
   "source": [
    "### Print the Elements of a Linked List"
   ]
  },
  {
   "cell_type": "code",
   "execution_count": null,
   "metadata": {
    "collapsed": false
   },
   "outputs": [],
   "source": [
    "values = raw_input().replace('->NULL', '').split('->')\n",
    "print '\\n'.join(values)"
   ]
  },
  {
   "cell_type": "code",
   "execution_count": null,
   "metadata": {
    "collapsed": true
   },
   "outputs": [],
   "source": [
    "# I guess this was a method only submission. The above code works, but this exercise is dumb.\n",
    "def print_list(head):\n",
    "    if head:\n",
    "        print head.data\n",
    "        print_list(head.next)"
   ]
  },
  {
   "cell_type": "markdown",
   "metadata": {},
   "source": [
    "### Insert a Node at the Tail of a Linked List"
   ]
  },
  {
   "cell_type": "code",
   "execution_count": null,
   "metadata": {
    "collapsed": true
   },
   "outputs": [],
   "source": [
    "def Insert(head, data):\n",
    "    if head:\n",
    "        if head.next is None:\n",
    "            head.next = Node(data)\n",
    "        else:\n",
    "            Insert(head.next, data)\n",
    "    else:\n",
    "        head = Node(data)\n",
    "    return head"
   ]
  },
  {
   "cell_type": "markdown",
   "metadata": {},
   "source": [
    "### Insert a node at the head of a linked list"
   ]
  },
  {
   "cell_type": "code",
   "execution_count": null,
   "metadata": {
    "collapsed": true
   },
   "outputs": [],
   "source": [
    "def Insert(head, data):\n",
    "    if not head:\n",
    "        return Node(data)\n",
    "    else:\n",
    "        return Node(data, head)"
   ]
  },
  {
   "cell_type": "markdown",
   "metadata": {},
   "source": [
    "### Insert a node at a specific position in a linked list"
   ]
  },
  {
   "cell_type": "code",
   "execution_count": null,
   "metadata": {
    "collapsed": true
   },
   "outputs": [],
   "source": [
    "def InsertNth(head, data, position):\n",
    "    if not head:\n",
    "        head = Node(data)\n",
    "    elif position == 0:\n",
    "        head = Node(data, head)\n",
    "    else:\n",
    "        if position == 1:\n",
    "            head.next = Node(data, head.next)\n",
    "        else:\n",
    "            InsertNth(head.next, data, position-1)\n",
    "    return head"
   ]
  },
  {
   "cell_type": "markdown",
   "metadata": {},
   "source": [
    "### Delete a Node"
   ]
  },
  {
   "cell_type": "code",
   "execution_count": null,
   "metadata": {
    "collapsed": true
   },
   "outputs": [],
   "source": [
    "def Delete(head, position):\n",
    "    if not head:\n",
    "        return None\n",
    "    elif position == 0:\n",
    "        return head.next\n",
    "    else:\n",
    "        if position == 1:\n",
    "            if head.next.next:\n",
    "                head.next = head.next.next\n",
    "            else:\n",
    "                head.next = None\n",
    "        else:\n",
    "            Delete(head.next, position-1)\n",
    "    return head"
   ]
  },
  {
   "cell_type": "markdown",
   "metadata": {},
   "source": [
    "### Print in Reverse"
   ]
  },
  {
   "cell_type": "code",
   "execution_count": null,
   "metadata": {
    "collapsed": true
   },
   "outputs": [],
   "source": [
    "# List version\n",
    "def ReversePrint(head):\n",
    "    if head:\n",
    "        values = []\n",
    "        while head:\n",
    "            values.append(str(head.data))\n",
    "            head = head.next\n",
    "        print '\\n'.join(reversed(values))"
   ]
  },
  {
   "cell_type": "code",
   "execution_count": null,
   "metadata": {
    "collapsed": true
   },
   "outputs": [],
   "source": [
    "# Recursive version\n",
    "def ReversePrint(head):\n",
    "    if head:\n",
    "        ReversePrint(head.next)\n",
    "        print head.data"
   ]
  },
  {
   "cell_type": "markdown",
   "metadata": {},
   "source": [
    "### Reverse Linked List"
   ]
  },
  {
   "cell_type": "code",
   "execution_count": null,
   "metadata": {
    "collapsed": true
   },
   "outputs": [],
   "source": [
    "def Reverse(head):\n",
    "    if head:\n",
    "        # Populate all the values from the linked list\n",
    "        values = []\n",
    "        while head:\n",
    "            values.append(head.data)\n",
    "            head = head.next\n",
    "        # Create a new linked list with new values\n",
    "        head = Node(values.pop())\n",
    "        first = head\n",
    "        # Keep popping\n",
    "        while(len(values)):\n",
    "            head.next = Node(values.pop())\n",
    "            head = head.next\n",
    "        return first"
   ]
  },
  {
   "cell_type": "markdown",
   "metadata": {},
   "source": [
    "### Compare two linked lists"
   ]
  },
  {
   "cell_type": "code",
   "execution_count": null,
   "metadata": {
    "collapsed": true
   },
   "outputs": [],
   "source": [
    "def CompareLists(headA, headB):\n",
    "    value = 1\n",
    "    while headA and headB:\n",
    "        value &= (headA.data == headB.data)\n",
    "        if headA.next and not headB.next or headB.next and not headA.next:\n",
    "            value = 0\n",
    "        headA = headA.next\n",
    "        headB = headB.next\n",
    "    return value"
   ]
  },
  {
   "cell_type": "markdown",
   "metadata": {},
   "source": [
    "### Merge two sorted linked lists"
   ]
  },
  {
   "cell_type": "code",
   "execution_count": null,
   "metadata": {
    "collapsed": true
   },
   "outputs": [],
   "source": [
    "def MergeLists(headA, headB):\n",
    "    node = Node()\n",
    "    if headA or headB:\n",
    "        if not headA:\n",
    "            node.data = headB.data\n",
    "            headB = headB.next\n",
    "        elif not headB:\n",
    "            node.data = headA.data\n",
    "            headA = headA.next\n",
    "        elif headA.data <= headB.data:\n",
    "            node.data = headA.data\n",
    "            headA = headA.next\n",
    "        else:\n",
    "            node.data = headB.data\n",
    "            headB = headB.next\n",
    "        node.next = MergeLists(headA, headB)\n",
    "        return node"
   ]
  },
  {
   "cell_type": "markdown",
   "metadata": {},
   "source": [
    "### Get Node Value"
   ]
  },
  {
   "cell_type": "code",
   "execution_count": null,
   "metadata": {
    "collapsed": true
   },
   "outputs": [],
   "source": [
    "def GetNode(head, position):\n",
    "    if head:\n",
    "        current = head\n",
    "        result = head\n",
    "        i = 0\n",
    "        while current:\n",
    "            current = current.next\n",
    "            if i > position:\n",
    "                result = result.next\n",
    "            i += 1\n",
    "        return result.data"
   ]
  },
  {
   "cell_type": "markdown",
   "metadata": {},
   "source": [
    "### Delete duplicate-value nodes from a sorted linked list"
   ]
  },
  {
   "cell_type": "code",
   "execution_count": null,
   "metadata": {
    "collapsed": true
   },
   "outputs": [],
   "source": [
    "def RemoveDuplicates(head):\n",
    "    first = head\n",
    "    current = first\n",
    "    probe = current\n",
    "    while current:\n",
    "        while probe and current.data == probe.data:\n",
    "            probe = probe.next\n",
    "        current.next = probe\n",
    "        current = current.next\n",
    "    return first"
   ]
  },
  {
   "cell_type": "markdown",
   "metadata": {},
   "source": [
    "### Cycle Detection"
   ]
  },
  {
   "cell_type": "code",
   "execution_count": null,
   "metadata": {
    "collapsed": true
   },
   "outputs": [],
   "source": [
    "def has_cycle(head):\n",
    "    cycle = False\n",
    "    if head and head.next:\n",
    "        a = head\n",
    "        b = head.next\n",
    "        while b and a is not b:\n",
    "            a = a.next\n",
    "            if b.next.next:\n",
    "                b = b.next.next\n",
    "            else:\n",
    "                b = b.next\n",
    "        cycle = a is b\n",
    "    return cycle"
   ]
  },
  {
   "cell_type": "markdown",
   "metadata": {},
   "source": [
    "### Find Merge Point of Two Lists"
   ]
  },
  {
   "cell_type": "code",
   "execution_count": null,
   "metadata": {
    "collapsed": true
   },
   "outputs": [],
   "source": [
    "# This would work if they didn't reuse the node objects\n",
    "def FindMergeNode(headA, headB):\n",
    "    while headA:\n",
    "        headA._checked = True\n",
    "        headA = headA.next\n",
    "    while headB:\n",
    "        if hasattr(headB, '_checked'):\n",
    "            return headB.data\n",
    "        headB = headB.next"
   ]
  },
  {
   "cell_type": "code",
   "execution_count": null,
   "metadata": {
    "collapsed": true
   },
   "outputs": [],
   "source": [
    "def FindMergeNode(headA, headB):\n",
    "    curA = headA\n",
    "    curB = headB\n",
    "    while curA is not curB:\n",
    "        curA = curA.next or headB\n",
    "        curB = curB.next or headA\n",
    "    return curA.data"
   ]
  },
  {
   "cell_type": "markdown",
   "metadata": {},
   "source": [
    "### Inserting a Node Into a Sorted Doubly Linked List"
   ]
  },
  {
   "cell_type": "code",
   "execution_count": null,
   "metadata": {
    "collapsed": true
   },
   "outputs": [],
   "source": [
    "def SortedInsert(head, data):\n",
    "    if not head:\n",
    "        return Node(data)\n",
    "    elif data <= head.data:\n",
    "        head.prev = Node(data, head)\n",
    "        return head.prev\n",
    "    else:\n",
    "        rest = SortedInsert(head.next, data)\n",
    "        head.next = rest\n",
    "        rest.prev = head\n",
    "        return head"
   ]
  },
  {
   "cell_type": "markdown",
   "metadata": {},
   "source": [
    "### Reverse a doubly linked list"
   ]
  },
  {
   "cell_type": "code",
   "execution_count": null,
   "metadata": {
    "collapsed": true
   },
   "outputs": [],
   "source": [
    "def Reverse(head):\n",
    "    newHead = head\n",
    "    while head:\n",
    "        temp = head.next\n",
    "        head.next = head.prev\n",
    "        head.prev = temp\n",
    "        newHead = head\n",
    "        head = head.prev\n",
    "    return newHead"
   ]
  },
  {
   "cell_type": "markdown",
   "metadata": {},
   "source": [
    "# [Trees](https://www.hackerrank.com/domains/data-structures/trees/)"
   ]
  },
  {
   "cell_type": "markdown",
   "metadata": {
    "collapsed": true
   },
   "source": [
    "### Tree: Preorder Traversal"
   ]
  },
  {
   "cell_type": "code",
   "execution_count": 1,
   "metadata": {
    "collapsed": true
   },
   "outputs": [],
   "source": [
    "def preOrder(root):\n",
    "    if root:\n",
    "        print root.data,\n",
    "        if root.left: preOrder(root.left)\n",
    "        if root.right: preOrder(root.right)"
   ]
  },
  {
   "cell_type": "markdown",
   "metadata": {},
   "source": [
    "### Postorder Traversal"
   ]
  },
  {
   "cell_type": "code",
   "execution_count": 2,
   "metadata": {
    "collapsed": true
   },
   "outputs": [],
   "source": [
    "def postOrder(root):\n",
    "    if root:\n",
    "        if root.left: postOrder(root.left)\n",
    "        if root.right: postOrder(root.right)\n",
    "        print root.data,"
   ]
  },
  {
   "cell_type": "markdown",
   "metadata": {},
   "source": [
    "### Inorder Traversal"
   ]
  },
  {
   "cell_type": "code",
   "execution_count": 3,
   "metadata": {
    "collapsed": true
   },
   "outputs": [],
   "source": [
    "def inOrder(root):\n",
    "    if root:\n",
    "        if root.left: inOrder(root.left)\n",
    "        print root.data,\n",
    "        if root.right: inOrder(root.right)"
   ]
  },
  {
   "cell_type": "markdown",
   "metadata": {},
   "source": [
    "### Height of a Binary Tree"
   ]
  },
  {
   "cell_type": "code",
   "execution_count": null,
   "metadata": {
    "collapsed": true
   },
   "outputs": [],
   "source": []
  },
  {
   "cell_type": "markdown",
   "metadata": {},
   "source": [
    "<div style=\"font: bold 32pt sans;\"> [Distributed Systems](https://www.hackerrank.com/domains/distributed-systems/)</div>"
   ]
  },
  {
   "cell_type": "markdown",
   "metadata": {},
   "source": [
    "# [Client / Server](https://www.hackerrank.com/domains/distributed-systems/client-server/difficulty/all/page/1)"
   ]
  },
  {
   "cell_type": "markdown",
   "metadata": {},
   "source": [
    "###UDS Echo Server"
   ]
  },
  {
   "cell_type": "code",
   "execution_count": null,
   "metadata": {
    "collapsed": true
   },
   "outputs": [],
   "source": [
    "def process_client_connection(connection):\n",
    "\n",
    "    while True:\n",
    "        # read message \n",
    "        message = read_string_from_socket(connection)\n",
    "\n",
    "        print \"Message received = \", message\n",
    "        sys.stdout.flush()\n",
    "\n",
    "        # Your logic goes here\n",
    "        # write message back to clinet\n",
    "        # write_string_to_socket(connection, message)\n",
    "\n",
    "        if message == \"END\":\n",
    "            break"
   ]
  },
  {
   "cell_type": "markdown",
   "metadata": {},
   "source": [
    "### Can funds be transferred? - A"
   ]
  },
  {
   "cell_type": "code",
   "execution_count": null,
   "metadata": {
    "collapsed": true
   },
   "outputs": [],
   "source": []
  },
  {
   "cell_type": "code",
   "execution_count": null,
   "metadata": {
    "collapsed": true
   },
   "outputs": [],
   "source": []
  }
 ],
 "metadata": {
  "kernelspec": {
   "display_name": "Python 2",
   "language": "python",
   "name": "python2"
  },
  "language_info": {
   "codemirror_mode": {
    "name": "ipython",
    "version": 2
   },
   "file_extension": ".py",
   "mimetype": "text/x-python",
   "name": "python",
   "nbconvert_exporter": "python",
   "pygments_lexer": "ipython2",
   "version": "2.7.11"
  }
 },
 "nbformat": 4,
 "nbformat_minor": 0
}
