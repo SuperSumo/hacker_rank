{
 "cells": [
  {
   "cell_type": "markdown",
   "metadata": {},
   "source": [
    "# [Introduction Challenges](https://www.hackerrank.com/domains/python/py-introduction)"
   ]
  },
  {
   "cell_type": "markdown",
   "metadata": {},
   "source": [
    "### Write a function"
   ]
  },
  {
   "cell_type": "code",
   "execution_count": null,
   "metadata": {
    "collapsed": false
   },
   "outputs": [],
   "source": [
    "years = [2000, 2400, 1800, 1900, 2100, 2200, 2300, 2500, 1992]\n",
    "truths = [True, True, False, False, False, False, False, False, True]\n",
    "\n",
    "def is_leap(year):\n",
    "    leap = False\n",
    "    if not year % 4:\n",
    "        leap = True\n",
    "    if not year % 100:\n",
    "        leap = False\n",
    "        if not year % 400:\n",
    "            leap = True\n",
    "    return leap\n",
    "\n",
    "for i, year in enumerate(years):\n",
    "    print is_leap(year), truths[i]"
   ]
  },
  {
   "cell_type": "markdown",
   "metadata": {},
   "source": [
    "### Print Function"
   ]
  },
  {
   "cell_type": "code",
   "execution_count": null,
   "metadata": {
    "collapsed": false,
    "scrolled": true
   },
   "outputs": [],
   "source": [
    "# Enter your code here. Read input from STDIN. Print output to STDOUT\n",
    "N = int(raw_input())\n",
    "\n",
    "# from __future__ import print_function\n",
    "# import sys\n",
    "# print(*xrange(1,N+1), sep='', end='\\n', file=sys.stdout)\n",
    "\n",
    "# Here's a method using string manipulation functions, which they didn't want originally, but I've never used the print_function before.\n",
    "print(''.join([str(x) for x in xrange(1,N+1)]))"
   ]
  },
  {
   "cell_type": "markdown",
   "metadata": {},
   "source": [
    "# [Basic Data Types Challenges](https://www.hackerrank.com/domains/python/py-basic-data-types)"
   ]
  },
  {
   "cell_type": "markdown",
   "metadata": {},
   "source": [
    "### Lists"
   ]
  },
  {
   "cell_type": "code",
   "execution_count": null,
   "metadata": {
    "collapsed": false
   },
   "outputs": [],
   "source": [
    "n = int(raw_input().strip())\n",
    "l = []\n",
    "for _ in xrange(n):\n",
    "    commandList = raw_input().strip().split()\n",
    "    command = commandList[0]\n",
    "    commandArgs = [int(x) for x in commandList[1:]]\n",
    "    if command == 'print':\n",
    "        print l\n",
    "    else:\n",
    "        l.__getattribute__(command)(*commandArgs)"
   ]
  },
  {
   "cell_type": "markdown",
   "metadata": {},
   "source": [
    "### Tuples"
   ]
  },
  {
   "cell_type": "code",
   "execution_count": null,
   "metadata": {
    "collapsed": false
   },
   "outputs": [],
   "source": [
    "n = int(raw_input().strip())\n",
    "print hash(tuple(map(int, raw_input().strip().split())))"
   ]
  },
  {
   "cell_type": "markdown",
   "metadata": {},
   "source": [
    "### List Comprehensions"
   ]
  },
  {
   "cell_type": "code",
   "execution_count": null,
   "metadata": {
    "collapsed": false
   },
   "outputs": [],
   "source": [
    "x = int(raw_input().strip())\n",
    "y = int(raw_input().strip())\n",
    "z = int(raw_input().strip())\n",
    "n = int(raw_input().strip())\n",
    "\n",
    "print [[a, b, c] for a in range(x+1) for b in range(y+1) for c in range(z+1) if sum([a, b, c]) != n]"
   ]
  },
  {
   "cell_type": "markdown",
   "metadata": {},
   "source": [
    "### Find the Second Largest Number"
   ]
  },
  {
   "cell_type": "code",
   "execution_count": null,
   "metadata": {
    "collapsed": true
   },
   "outputs": [],
   "source": [
    "n = int(raw_input().strip())\n",
    "nums = map(int, raw_input().strip().split())\n",
    "nums = list(set(nums))\n",
    "nums.sort()\n",
    "nums.reverse()\n",
    "print nums[1]"
   ]
  },
  {
   "cell_type": "markdown",
   "metadata": {},
   "source": [
    "### Nested Lists\n",
    "\n",
    "Given the names and grades for each student in a Physics class of N students, store them in a nested list and print the name(s) of any student(s) having the second lowest grade.\n",
    "\n",
    "Note: If there are multiple students with the same grade, order their names alphabetically and print each name on a new line.\n",
    "\n",
    "Print the name(s) of any student(s) having the second lowest grade in Physics; if there are multiple students, order their names alphabetically and print each one on a new line.\n",
    "\n",
    "```5\n",
    "Harry\n",
    "37.21\n",
    "Berry\n",
    "37.21\n",
    "Tina\n",
    "37.2\n",
    "Akriti\n",
    "41\n",
    "Harsh\n",
    "39```"
   ]
  },
  {
   "cell_type": "code",
   "execution_count": null,
   "metadata": {
    "collapsed": false
   },
   "outputs": [],
   "source": [
    "lines = 4\n",
    "kids = \"\"\"Shadab\n",
    "8\n",
    "Varun\n",
    "8.9\n",
    "Sarvesh\n",
    "9.5\n",
    "Harsh\n",
    "10\"\"\".split()\n",
    "\n",
    "# lines = int(raw_input().strip())\n",
    "# kids = [raw_input().strip() for _ in range(lines*2)]\n",
    "\n",
    "children = {}\n",
    "for i in range(lines):\n",
    "    children.setdefault(float(kids[2*i+1]),[]).append(kids[2*i])\n",
    "for child in sorted(children[sorted(children)[1]]):\n",
    "    print child"
   ]
  },
  {
   "cell_type": "markdown",
   "metadata": {},
   "source": [
    "### Finding the percentage\n",
    "You have a record of N students. Each record contains the student's name, and their percent marks in Maths, Physics and Chemistry. The marks can be floating values. The user enters some integer N followed by the names and marks for N students. You are required to save the record in a dictionary data type. The user then enters a student's name. Output the average percentage marks obtained by that student, correct to two decimal places.\n",
    "\n",
    "Output Format\n",
    "Print one line: The average of the marks obtained by the particular student correct to 2 decimal places.\n",
    "\n",
    "Sample Input\n",
    "\n",
    "```\n",
    "3\n",
    "Krishna 67 68 69\n",
    "Arjun 70 98 63\n",
    "Malika 52 56 60\n",
    "Malika```\n",
    "\n",
    "Sample Output\n",
    "\n",
    "56.00"
   ]
  },
  {
   "cell_type": "code",
   "execution_count": null,
   "metadata": {
    "collapsed": false
   },
   "outputs": [],
   "source": [
    "n = int(raw_input().strip())\n",
    "d = {}\n",
    "for _ in range(n):\n",
    "    line = raw_input().strip().split()\n",
    "    name = line[0]\n",
    "    grades = map(float, line[1:])\n",
    "    d[name] = grades\n",
    "query = raw_input().strip()\n",
    "print \"%.2f\" % (sum(d[query]) / len(d[query]))"
   ]
  },
  {
   "cell_type": "markdown",
   "metadata": {},
   "source": [
    "# [Strings Challenges](https://www.hackerrank.com/domains/python/py-strings/)"
   ]
  },
  {
   "cell_type": "markdown",
   "metadata": {
    "collapsed": true
   },
   "source": [
    "### sWAP cASE"
   ]
  },
  {
   "cell_type": "code",
   "execution_count": null,
   "metadata": {
    "collapsed": false
   },
   "outputs": [],
   "source": [
    "print ''.join(map(str.swapcase, raw_input().strip()))"
   ]
  },
  {
   "cell_type": "markdown",
   "metadata": {},
   "source": [
    "### String Split and Join"
   ]
  },
  {
   "cell_type": "code",
   "execution_count": null,
   "metadata": {
    "collapsed": false
   },
   "outputs": [],
   "source": [
    "print '-'.join(raw_input().split(' '))"
   ]
  },
  {
   "cell_type": "markdown",
   "metadata": {},
   "source": [
    "### What's your name?"
   ]
  },
  {
   "cell_type": "code",
   "execution_count": null,
   "metadata": {
    "collapsed": false
   },
   "outputs": [],
   "source": [
    "print 'Hello %s %s! You just delved into python.' % (raw_input().strip(), raw_input().strip())"
   ]
  },
  {
   "cell_type": "markdown",
   "metadata": {},
   "source": [
    "### Mutations"
   ]
  },
  {
   "cell_type": "code",
   "execution_count": null,
   "metadata": {
    "collapsed": false
   },
   "outputs": [],
   "source": [
    "s = raw_input().strip()\n",
    "i, c = raw_input().strip().split()\n",
    "i = int(i)\n",
    "print s[:i] + c + s[i+1:]"
   ]
  },
  {
   "cell_type": "markdown",
   "metadata": {},
   "source": [
    "### Find a string"
   ]
  },
  {
   "cell_type": "code",
   "execution_count": null,
   "metadata": {
    "collapsed": false
   },
   "outputs": [],
   "source": [
    "string, substring = raw_input(), raw_input()\n",
    "print sum(string[i:].startswith(substring) for i in range(len(string)))"
   ]
  },
  {
   "cell_type": "markdown",
   "metadata": {},
   "source": [
    "### String Validators"
   ]
  },
  {
   "cell_type": "code",
   "execution_count": null,
   "metadata": {
    "collapsed": false
   },
   "outputs": [],
   "source": [
    "s = raw_input().strip()\n",
    "print bool(sum([c.isalnum() for c in s]))\n",
    "print bool(sum([c.isalpha() for c in s]))\n",
    "print bool(sum([c.isdigit() for c in s]))\n",
    "print bool(sum([c.islower() for c in s]))\n",
    "print bool(sum([c.isupper() for c in s]))"
   ]
  },
  {
   "cell_type": "markdown",
   "metadata": {},
   "source": [
    "### Text Alignment"
   ]
  },
  {
   "cell_type": "code",
   "execution_count": null,
   "metadata": {
    "collapsed": false
   },
   "outputs": [],
   "source": [
    "#Replace all ______ with rjust, ljust or center. \n",
    "\n",
    "thickness = int(raw_input()) #This must be an odd number\n",
    "c = 'H'\n",
    "\n",
    "#Top Cone\n",
    "for i in range(thickness):\n",
    "    print (c*i).rjust(thickness-1)+c+(c*i).ljust(thickness-1)\n",
    "\n",
    "#Top Pillars\n",
    "for i in range(thickness+1):\n",
    "    print (c*thickness).center(thickness*2)+(c*thickness).center(thickness*6)\n",
    "\n",
    "#Middle Belt\n",
    "for i in range((thickness+1)/2):\n",
    "    print (c*thickness*5).center(thickness*6)    \n",
    "\n",
    "#Bottom Pillars\n",
    "for i in range(thickness+1):\n",
    "    print (c*thickness).center(thickness*2)+(c*thickness).center(thickness*6)    \n",
    "\n",
    "#Bottom Cone\n",
    "for i in range(thickness):\n",
    "    print ((c*(thickness-i-1)).rjust(thickness)+c+(c*(thickness-i-1)).ljust(thickness)).rjust(thickness*6)    \n"
   ]
  },
  {
   "cell_type": "markdown",
   "metadata": {},
   "source": [
    "### Text Wrap"
   ]
  },
  {
   "cell_type": "code",
   "execution_count": null,
   "metadata": {
    "collapsed": false
   },
   "outputs": [],
   "source": [
    "import textwrap\n",
    "string = raw_input().strip()\n",
    "chars = int(raw_input())\n",
    "print textwrap.fill(string, chars)"
   ]
  },
  {
   "cell_type": "markdown",
   "metadata": {},
   "source": [
    "### Designer Door Mat"
   ]
  },
  {
   "cell_type": "code",
   "execution_count": null,
   "metadata": {
    "collapsed": false
   },
   "outputs": [],
   "source": [
    "sampleInput = '9 27'\n",
    "n, m = map(int, sampleInput.split())\n",
    "lines = [('.|.' * i).center(m, '-') for i in range(1, n, 2)]\n",
    "print '\\n'.join(lines+['WELCOME'.center(m,'-')]+lines[::-1])"
   ]
  },
  {
   "cell_type": "markdown",
   "metadata": {},
   "source": [
    "### String Formatting"
   ]
  },
  {
   "cell_type": "code",
   "execution_count": null,
   "metadata": {
    "collapsed": false
   },
   "outputs": [],
   "source": [
    "n = int(raw_input())\n",
    "width = len(bin(n)[2:])\n",
    "for i in xrange(1, n+1):\n",
    "    print ' '.join([x.rjust(width) for x in [str(i), oct(i)[1:], hex(i)[2:].upper(), bin(i)[2:]]])"
   ]
  },
  {
   "cell_type": "markdown",
   "metadata": {},
   "source": [
    "### Alphabet Rangoli"
   ]
  },
  {
   "cell_type": "code",
   "execution_count": null,
   "metadata": {
    "collapsed": false
   },
   "outputs": [],
   "source": [
    "n = int(raw_input())\n",
    "width = 4*n-3\n",
    "lines = [(chr(ord('a')+n-1)).center(width, '-')]\n",
    "for i in range(2, n+1):\n",
    "    s = '-'.join([chr(ord('a') + (n-x-1)) for x in range(i)])\n",
    "    lines.append('-'.join([s, s[:-2][::-1]]).center(width, '-'))\n",
    "print '\\n'.join(lines)\n",
    "for line in lines[::-1][1:]:\n",
    "    print line"
   ]
  },
  {
   "cell_type": "markdown",
   "metadata": {},
   "source": [
    "### Capitalize!"
   ]
  },
  {
   "cell_type": "code",
   "execution_count": null,
   "metadata": {
    "collapsed": false
   },
   "outputs": [],
   "source": [
    "# Wrong\n",
    "s = raw_input()\n",
    "print ' '.join([x.capitalize() for x in s.split()])"
   ]
  },
  {
   "cell_type": "code",
   "execution_count": null,
   "metadata": {
    "collapsed": false
   },
   "outputs": [],
   "source": [
    "# Right\n",
    "s = raw_input()\n",
    "for x in s.split():\n",
    "    s = s.replace(x, x.capitalize())\n",
    "print s"
   ]
  },
  {
   "cell_type": "markdown",
   "metadata": {},
   "source": [
    "### The Minion Game"
   ]
  },
  {
   "cell_type": "code",
   "execution_count": null,
   "metadata": {
    "collapsed": false
   },
   "outputs": [],
   "source": [
    "import string"
   ]
  },
  {
   "cell_type": "code",
   "execution_count": null,
   "metadata": {
    "collapsed": false
   },
   "outputs": [],
   "source": [
    "s = raw_input().strip()\n",
    "v = 'AEIOU'\n",
    "\n",
    "def get_all_substrings(s):\n",
    "    words = set()\n",
    "    for i in range(len(s)):\n",
    "        words.add(s[i])\n",
    "        for j in range(2, len(s)-i+1):\n",
    "            words.add(s[i:i+j])\n",
    "    return words\n",
    "\n",
    "def count_occurances(s, word):\n",
    "    # It seems like s.count(word) isn't accurate\n",
    "    num = 0\n",
    "    for i in range(len(s)):\n",
    "        if s[i:].startswith(word):\n",
    "            num += 1\n",
    "    return num\n",
    "\n",
    "words = get_all_substrings(s)\n",
    "\n",
    "vWords = filter(lambda x: x[0] in v, words)\n",
    "cWords = filter(lambda x: x[0] not in v, words)\n",
    "\n",
    "vScoreDict = {x:count_occurances(s, x) for x in vWords}\n",
    "cScoreDict = {x:count_occurances(s, x) for x in cWords}\n",
    "\n",
    "vScore = sum(vScoreDict.values())\n",
    "cScore = sum(cScoreDict.values())\n",
    "\n",
    "# print vScoreDict, vScore\n",
    "# print cScoreDict, cScore\n",
    "\n",
    "if cScore == vScore:\n",
    "    print 'Draw'\n",
    "elif cScore > vScore:\n",
    "    print 'Stuart', cScore\n",
    "else:\n",
    "    print 'Kevin', vScore"
   ]
  },
  {
   "cell_type": "code",
   "execution_count": null,
   "metadata": {
    "collapsed": false
   },
   "outputs": [],
   "source": [
    "get_all_substrings('HUHUHUHU')"
   ]
  },
  {
   "cell_type": "code",
   "execution_count": null,
   "metadata": {
    "collapsed": true
   },
   "outputs": [],
   "source": [
    "s = raw_input()\n",
    "\n",
    "vowels = 'AEIOU'\n",
    "\n",
    "kevsc = 0\n",
    "stusc = 0\n",
    "for i in xrange(len(s)):\n",
    "    if s[i] in vowels:\n",
    "        kevsc += (len(s)-i)\n",
    "    else:\n",
    "        stusc += (len(s)-i)\n",
    "\n",
    "if kevsc > stusc:\n",
    "    print \"Kevin\", kevsc\n",
    "elif kevsc < stusc:\n",
    "    print \"Stuart\", stusc\n",
    "else:\n",
    "    print \"Draw\""
   ]
  },
  {
   "cell_type": "markdown",
   "metadata": {},
   "source": [
    "###Merge the Tools!"
   ]
  },
  {
   "cell_type": "code",
   "execution_count": null,
   "metadata": {
    "collapsed": false
   },
   "outputs": [],
   "source": [
    "import textwrap\n",
    "\n",
    "s = raw_input()\n",
    "k = int(raw_input())\n",
    "\n",
    "# Split the string into n/k parts\n",
    "parts = textwrap.wrap(s, k)\n",
    "\n",
    "for part in parts:\n",
    "    mod = []\n",
    "    [mod.append(x) for x in part if x not in mod]\n",
    "    print ''.join(mod)"
   ]
  },
  {
   "cell_type": "markdown",
   "metadata": {},
   "source": [
    "# [Sets Challenges](https://www.hackerrank.com/domains/python/py-sets/)"
   ]
  },
  {
   "cell_type": "code",
   "execution_count": null,
   "metadata": {
    "collapsed": true
   },
   "outputs": [],
   "source": []
  },
  {
   "cell_type": "markdown",
   "metadata": {
    "collapsed": true
   },
   "source": [
    "# [Math Challenges](https://www.hackerrank.com/domains/python/py-math/)"
   ]
  },
  {
   "cell_type": "markdown",
   "metadata": {},
   "source": [
    "### Find Angle MBC"
   ]
  },
  {
   "cell_type": "code",
   "execution_count": 1,
   "metadata": {
    "collapsed": false
   },
   "outputs": [
    {
     "name": "stdout",
     "output_type": "stream",
     "text": [
      "3\n",
      "4\n",
      "37°\n"
     ]
    }
   ],
   "source": [
    "AB = float(raw_input())\n",
    "BC = float(raw_input())\n",
    "\n",
    "mY = AB / 2.0\n",
    "mX = BC / 2.0\n",
    "\n",
    "import math\n",
    "print '%i°' % int(round(math.degrees(math.atan2(mY, mX))))"
   ]
  },
  {
   "cell_type": "markdown",
   "metadata": {},
   "source": [
    "# [Itertools Challenges](https://www.hackerrank.com/domains/python/py-itertools/)"
   ]
  },
  {
   "cell_type": "markdown",
   "metadata": {},
   "source": [
    "# [Collections Challenges](https://www.hackerrank.com/domains/python/py-collections/)"
   ]
  },
  {
   "cell_type": "markdown",
   "metadata": {},
   "source": [
    "### collections.Counter()"
   ]
  },
  {
   "cell_type": "code",
   "execution_count": 6,
   "metadata": {
    "collapsed": false
   },
   "outputs": [
    {
     "name": "stdout",
     "output_type": "stream",
     "text": [
      "200\n"
     ]
    }
   ],
   "source": [
    "from collections import Counter\n",
    "\n",
    "# x = int(raw_input().strip())\n",
    "# sizes = map(int, raw_input().strip().split())\n",
    "# numCustomers = int(raw_input().strip())\n",
    "# custList = [map(int, raw_input().strip().split()) for _ in xrange(numCustomers)]\n",
    "\n",
    "x = 10\n",
    "sizes = [2, 3, 4, 5, 6, 8, 7, 6, 5, 18]\n",
    "numCustomers = 6\n",
    "custList = [[6, 55], [6, 45], [6, 55], [4, 40], [18, 60], [10, 50]] # size of shoe, cost of shoe\n",
    "\n",
    "sizeCounter = Counter(sizes)\n",
    "\n",
    "moneyMade = 0\n",
    "for size, price in custList:\n",
    "    if size in sizeCounter and sizeCounter[size] > 0:\n",
    "        moneyMade += price\n",
    "        sizeCounter[size] -= 1\n",
    "\n",
    "print moneyMade"
   ]
  },
  {
   "cell_type": "markdown",
   "metadata": {},
   "source": [
    "### DefaultDict Tutorial"
   ]
  },
  {
   "cell_type": "code",
   "execution_count": null,
   "metadata": {
    "collapsed": true
   },
   "outputs": [],
   "source": []
  },
  {
   "cell_type": "markdown",
   "metadata": {},
   "source": [
    "### "
   ]
  },
  {
   "cell_type": "code",
   "execution_count": null,
   "metadata": {
    "collapsed": true
   },
   "outputs": [],
   "source": []
  },
  {
   "cell_type": "markdown",
   "metadata": {},
   "source": [
    "### "
   ]
  },
  {
   "cell_type": "code",
   "execution_count": null,
   "metadata": {
    "collapsed": true
   },
   "outputs": [],
   "source": []
  },
  {
   "cell_type": "markdown",
   "metadata": {},
   "source": [
    "### "
   ]
  },
  {
   "cell_type": "code",
   "execution_count": null,
   "metadata": {
    "collapsed": true
   },
   "outputs": [],
   "source": []
  },
  {
   "cell_type": "markdown",
   "metadata": {},
   "source": [
    "### "
   ]
  },
  {
   "cell_type": "code",
   "execution_count": null,
   "metadata": {
    "collapsed": true
   },
   "outputs": [],
   "source": []
  },
  {
   "cell_type": "markdown",
   "metadata": {},
   "source": [
    "### "
   ]
  },
  {
   "cell_type": "code",
   "execution_count": null,
   "metadata": {
    "collapsed": true
   },
   "outputs": [],
   "source": []
  },
  {
   "cell_type": "markdown",
   "metadata": {},
   "source": [
    "# [Date and Time Challenges](https://www.hackerrank.com/domains/python/py-date-time/)"
   ]
  },
  {
   "cell_type": "markdown",
   "metadata": {},
   "source": [
    "### Calendar Module"
   ]
  },
  {
   "cell_type": "code",
   "execution_count": 37,
   "metadata": {
    "collapsed": false
   },
   "outputs": [],
   "source": [
    "import calendar\n",
    "# print calendar.TextCalendar(firstweekday=6).formatyear(2016) # NEAT!"
   ]
  },
  {
   "cell_type": "code",
   "execution_count": 10,
   "metadata": {
    "collapsed": false,
    "scrolled": true
   },
   "outputs": [
    {
     "name": "stdout",
     "output_type": "stream",
     "text": [
      "08 05 2015\n",
      "WEDNESDAY\n"
     ]
    }
   ],
   "source": [
    "import calendar\n",
    "m, d, y = map(int, raw_input().strip().split())\n",
    "weekday = calendar.weekday(y, m, d)\n",
    "print  calendar.day_name[weekday].upper()"
   ]
  },
  {
   "cell_type": "markdown",
   "metadata": {},
   "source": [
    "### Time Delta"
   ]
  },
  {
   "cell_type": "code",
   "execution_count": 38,
   "metadata": {
    "collapsed": false,
    "scrolled": true
   },
   "outputs": [
    {
     "name": "stdout",
     "output_type": "stream",
     "text": [
      "2\n",
      "Sun 10 May 2015 13:54:36 -0700\n",
      "Sun 10 May 2015 13:54:36 +0000\n",
      "25200\n",
      "Sat 02 May 2015 19:54:36 +0530\n",
      "Fri 01 May 2015 13:54:36 +0000\n",
      "88200\n"
     ]
    }
   ],
   "source": [
    "from dateutil.parser import parse\n",
    "\n",
    "numSets = int(raw_input().strip())\n",
    "for _ in range(numSets):\n",
    "    t1 = parse(raw_input().strip())\n",
    "    t2 = parse(raw_input().strip())\n",
    "    print abs(int((t1 - t2).total_seconds()))"
   ]
  },
  {
   "cell_type": "markdown",
   "metadata": {},
   "source": [
    "# [Errors and Exceptions Challenges](https://www.hackerrank.com/domains/python/errors-exceptions/)"
   ]
  },
  {
   "cell_type": "markdown",
   "metadata": {},
   "source": [
    "# [Classes Challenges](https://www.hackerrank.com/domains/python/py-classes/)"
   ]
  },
  {
   "cell_type": "markdown",
   "metadata": {},
   "source": [
    "# [Built-Ins Challenges](https://www.hackerrank.com/domains/python/py-built-ins/)"
   ]
  },
  {
   "cell_type": "markdown",
   "metadata": {},
   "source": [
    "# [Functionals Challenges](https://www.hackerrank.com/domains/python/py-functionals/)"
   ]
  },
  {
   "cell_type": "markdown",
   "metadata": {},
   "source": [
    "### Map and Lambda Function"
   ]
  },
  {
   "cell_type": "code",
   "execution_count": 86,
   "metadata": {
    "collapsed": false
   },
   "outputs": [
    {
     "name": "stdout",
     "output_type": "stream",
     "text": [
      "100000 loops, best of 3: 5.3 µs per loop\n"
     ]
    }
   ],
   "source": [
    "%%timeit\n",
    "\n",
    "def F():\n",
    "    a, b = 0, 1\n",
    "    yield a\n",
    "    yield b\n",
    "    while True:\n",
    "        a, b = b, a + b\n",
    "        yield b\n",
    "\n",
    "def SubFib(n):\n",
    "    for i, cur in enumerate(F()):\n",
    "        yield cur\n",
    "        if i == n-1:\n",
    "            return\n",
    "\n",
    "fibs = [i for i in SubFib(25)]"
   ]
  },
  {
   "cell_type": "code",
   "execution_count": 88,
   "metadata": {
    "collapsed": false,
    "scrolled": false
   },
   "outputs": [
    {
     "name": "stdout",
     "output_type": "stream",
     "text": [
      "100000 loops, best of 3: 5.75 µs per loop\n"
     ]
    }
   ],
   "source": [
    "%%timeit\n",
    "\n",
    "def memoize(f):\n",
    "   cache = {}\n",
    "\n",
    "   def memoizedFunction(*args):\n",
    "      if args not in cache:\n",
    "         cache[args] = f(*args)\n",
    "      return cache[args]\n",
    "\n",
    "   memoizedFunction.cache = cache\n",
    "   return memoizedFunction\n",
    "\n",
    "@memoize\n",
    "def fib(n):\n",
    "   if n <= 2:\n",
    "      return 1\n",
    "   else:\n",
    "      return fib(n-1) + fib(n-2)\n",
    "\n",
    "fibs = [i for i in SubFib(25)]\n"
   ]
  },
  {
   "cell_type": "code",
   "execution_count": 68,
   "metadata": {
    "collapsed": false
   },
   "outputs": [
    {
     "name": "stdout",
     "output_type": "stream",
     "text": [
      "100000 loops, best of 3: 7.22 µs per loop\n"
     ]
    }
   ],
   "source": [
    "%%timeit\n",
    "# n = int(raw_input().strip())\n",
    "n = 25\n",
    "\n",
    "fibs = []\n",
    "for i in xrange(n):\n",
    "    if i==0:\n",
    "        fibs.append(0)\n",
    "    elif i==1:\n",
    "        fibs.append(1)\n",
    "    else:\n",
    "        fibs.append(sum([fibs[-1], fibs[-2]]))\n",
    "fibs\n",
    "# map(lambda x:x**3, fibs)"
   ]
  },
  {
   "cell_type": "markdown",
   "metadata": {},
   "source": [
    "### Validating Email Addresses With a Filter\n",
    "Valid email addresses must follow these rules:\n",
    "\n",
    "1. It must have the username@websitename.extension format type.\n",
    "- The username can only contain letters, digits, dashes and underscores.\n",
    "- The website name can only have letters and digits.\n",
    "- The maximum length of the extension is . "
   ]
  },
  {
   "cell_type": "markdown",
   "metadata": {},
   "source": [
    "<span style=\"color: red;\">I can do this but it's too long using filters. It's a stupid exercise.</span>"
   ]
  },
  {
   "cell_type": "code",
   "execution_count": 101,
   "metadata": {
    "collapsed": false
   },
   "outputs": [
    {
     "name": "stdout",
     "output_type": "stream",
     "text": [
      "['dheeraj-234@gmail.com', 'harsh_1234@rediff.in', 'kunal_shin@iop.az']\n"
     ]
    }
   ],
   "source": [
    "n = 5\n",
    "emails = \"\"\"dheeraj-234@gmail.com\n",
    "itsallcrap\n",
    "harsh_1234@rediff.in\n",
    "kunal_shin@iop.az\n",
    "matt23@@india.in\"\"\".splitlines()\n",
    "\n",
    "# n = int(raw_input())\n",
    "# emails = [raw_input().strip() for _ in range(n)]\n",
    "print sorted(filter(lambda x: all(['@' in x,\n",
    "                                   x.count('@') == 1,\n",
    "                                   '.' in x,\n",
    "                                   x.find('@') < x.find('.')]),\n",
    "                    emails))"
   ]
  },
  {
   "cell_type": "markdown",
   "metadata": {},
   "source": [
    "# [Regex Challenges](https://www.hackerrank.com/domains/python/py-regex/)"
   ]
  },
  {
   "cell_type": "markdown",
   "metadata": {},
   "source": [
    "# [XML Challenges](https://www.hackerrank.com/domains/python/xml/)"
   ]
  },
  {
   "cell_type": "markdown",
   "metadata": {},
   "source": [
    "# [Closures and Decorators Challenges](https://www.hackerrank.com/domains/python/closures-and-decorators/)"
   ]
  },
  {
   "cell_type": "markdown",
   "metadata": {},
   "source": [
    "### Standardize Mobile Number Using Decorators\n",
    "\n",
    "Like most other programming languages, Python has the concept of closures. Extending these closures gives us decorators, which are an invaluable asset. You can learn about decorators in 12 easy steps [here](http://simeonfranklin.com/blog/2012/jul/1/python-decorators-in-12-steps/).\n",
    "To solve the above question, make a list of the mobile numbers and pass it to a function that sorts the array in ascending order. Make a decorator that standardizes the mobile numbers and apply it to the function.\n",
    "\n",
    "Sample Input\n",
    "\n",
    "```\n",
    "3\n",
    "07895462130\n",
    "919875641230\n",
    "9195969878\n",
    "```\n",
    "\n",
    "Sample Output\n",
    "\n",
    "```\n",
    "+91 78954 62130\n",
    "+91 91959 69878\n",
    "+91 98756 41230\n",
    "```"
   ]
  },
  {
   "cell_type": "code",
   "execution_count": 109,
   "metadata": {
    "collapsed": false
   },
   "outputs": [
    {
     "name": "stdout",
     "output_type": "stream",
     "text": [
      "+91 78954 62130\n",
      "+91 91959 69878\n",
      "+91 98756 41230\n"
     ]
    }
   ],
   "source": [
    "phoneNumbers = ['07895462130',\n",
    "                '919875641230',\n",
    "                '9195969878']\n",
    "\n",
    "# phoneNumbers = [raw_input() for _ in range(int(raw_input()))]\n",
    "\n",
    "def sorted_wrapper(f):\n",
    "    def _sorted_wrapper(*args, **kwargs):\n",
    "        return sorted(f(*args, **kwargs))\n",
    "    return _sorted_wrapper\n",
    "\n",
    "@sorted_wrapper\n",
    "def standardize_phone_number(phoneNumbers):\n",
    "    return [' '.join(['+91', l[-10:-5], l[-5:]]) for l in phoneNumbers]\n",
    "\n",
    "print '\\n'.join(standardize_phone_number(phoneNumbers))"
   ]
  },
  {
   "cell_type": "markdown",
   "metadata": {},
   "source": [
    "### Decorators 2 - Name Directory"
   ]
  },
  {
   "cell_type": "code",
   "execution_count": 158,
   "metadata": {
    "collapsed": false
   },
   "outputs": [
    {
     "data": {
      "text/plain": [
       "[['Mike', 'Thomson', '20', 'M'],\n",
       " ['Robert', 'Bustle', '32', 'M'],\n",
       " ['Andria', 'Bustle', '30', 'F']]"
      ]
     },
     "execution_count": 158,
     "metadata": {},
     "output_type": "execute_result"
    }
   ],
   "source": [
    "names = ['Mike Thomson 20 M',\n",
    "         'Robert Bustle 32 M',\n",
    "         'Andria Bustle 30 F']\n",
    "[x.split() for x in names]"
   ]
  },
  {
   "cell_type": "code",
   "execution_count": 4,
   "metadata": {
    "collapsed": false
   },
   "outputs": [
    {
     "name": "stdout",
     "output_type": "stream",
     "text": [
      "Mr. Mike Thomson\n",
      "Mrs. Andria Bustle\n",
      "Mr. Robert Bustle\n"
     ]
    }
   ],
   "source": [
    "import operator\n",
    "\n",
    "n = 3\n",
    "names = [['Mike', 'Thomson', '20', 'M'],\n",
    "         ['Robert', 'Bustle', '32', 'M'],\n",
    "         ['Andria', 'Bustle', '30', 'F']]\n",
    "\n",
    "# names = [raw_input().split() for _ in range(int(raw_input()))]\n",
    "\n",
    "def sorted_wrapper(f):\n",
    "    def _sorted_wrapper(names):\n",
    "        return [f(name) for name in sorted(names, key=operator.itemgetter(2))]\n",
    "#         return reversed(sorted(f(names), key=lambda x:int(x.split()[2])))\n",
    "    return _sorted_wrapper\n",
    "\n",
    "@sorted_wrapper\n",
    "def prepend_prefix(name):\n",
    "    prefix = {'M': 'Mr.',\n",
    "              'F': 'Mrs.'}[name[-1]]\n",
    "    return [prefix] + name\n",
    "\n",
    "for name in prepend_prefix(names):\n",
    "    print ' '.join(name[:3])\n",
    "# print '\\n'.join(fix_name(names))\n",
    "\n",
    "# print names\n",
    "# parsedNames = []\n",
    "# for name in names:\n",
    "#     first, last, age, sex = name.split(' ')\n",
    "#     parsedNames.append(' '.join(['Mr.' if sex == 'M' else 'Ms.', first, last]))\n",
    "# print parsedNames\n",
    "#     print name.split(' ')\n",
    "#     for x in name.split(' '):\n",
    "#         print x\n",
    "#         print ' '.join(['Mr.' if x[3] == 'M' else 'Ms.', x[0], x[1]])\n",
    "#     print [' '.join(['Mr.' if x[3] == 'M' else 'Ms.', x[0], x[1]]) for x in name.split(' ')]"
   ]
  },
  {
   "cell_type": "markdown",
   "metadata": {},
   "source": [
    "# [Numpy Challenges](https://www.hackerrank.com/domains/python/numpy/)"
   ]
  },
  {
   "cell_type": "code",
   "execution_count": null,
   "metadata": {
    "collapsed": true
   },
   "outputs": [],
   "source": []
  }
 ],
 "metadata": {
  "kernelspec": {
   "display_name": "Python 2",
   "language": "python",
   "name": "python2"
  },
  "language_info": {
   "codemirror_mode": {
    "name": "ipython",
    "version": 2
   },
   "file_extension": ".py",
   "mimetype": "text/x-python",
   "name": "python",
   "nbconvert_exporter": "python",
   "pygments_lexer": "ipython2",
   "version": "2.7.11"
  }
 },
 "nbformat": 4,
 "nbformat_minor": 0
}
