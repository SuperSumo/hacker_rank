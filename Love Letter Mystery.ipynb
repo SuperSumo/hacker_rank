{
 "cells": [
  {
   "cell_type": "markdown",
   "metadata": {},
   "source": [
    "# https://www.hackerrank.com/challenges/the-love-letter-mystery"
   ]
  },
  {
   "cell_type": "code",
   "execution_count": 1,
   "metadata": {
    "collapsed": true
   },
   "outputs": [],
   "source": [
    "from common import mocked_raw_input"
   ]
  },
  {
   "cell_type": "code",
   "execution_count": 30,
   "metadata": {
    "collapsed": true
   },
   "outputs": [],
   "source": [
    "import operator\n",
    "def love_letter_mystery(s):\n",
    "    l = len(s)\n",
    "    firstHalf = map(ord, s[:l/2 + l%2])\n",
    "    secondHalf = map(ord, s[l/2:][::-1])\n",
    "    return sum(map(abs, map(operator.sub, firstHalf, secondHalf)))"
   ]
  },
  {
   "cell_type": "code",
   "execution_count": 31,
   "metadata": {
    "collapsed": false
   },
   "outputs": [
    {
     "name": "stdout",
     "output_type": "stream",
     "text": [
      "2\n",
      "0\n",
      "4\n",
      "2\n"
     ]
    }
   ],
   "source": [
    "# Mock out raw_input\n",
    "s = '''4\n",
    "abc\n",
    "abcba\n",
    "abcd\n",
    "cba'''\n",
    "raw_input = mocked_raw_input(s)\n",
    "\n",
    "# Read the inputs\n",
    "numSets = int(raw_input())\n",
    "for _ in xrange(numSets):\n",
    "    print love_letter_mystery(raw_input())"
   ]
  }
 ],
 "metadata": {
  "anaconda-cloud": {},
  "kernelspec": {
   "display_name": "Python [conda env:main]",
   "language": "python",
   "name": "conda-env-main-py"
  },
  "language_info": {
   "codemirror_mode": {
    "name": "ipython",
    "version": 2
   },
   "file_extension": ".py",
   "mimetype": "text/x-python",
   "name": "python",
   "nbconvert_exporter": "python",
   "pygments_lexer": "ipython2",
   "version": "2.7.12"
  }
 },
 "nbformat": 4,
 "nbformat_minor": 1
}
